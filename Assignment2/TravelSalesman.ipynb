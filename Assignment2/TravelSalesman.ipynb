{
 "cells": [
  {
   "cell_type": "code",
   "execution_count": 1,
   "metadata": {},
   "outputs": [],
   "source": [
    "import six\n",
    "import sys\n",
    "sys.modules['sklearn.externals.six'] = six"
   ]
  },
  {
   "cell_type": "code",
   "execution_count": 2,
   "metadata": {},
   "outputs": [],
   "source": [
    "import mlrose\n",
    "import matplotlib.pyplot as plt\n",
    "import pandas as pd\n",
    "import numpy as np\n",
    "from time import process_time"
   ]
  },
  {
   "cell_type": "code",
   "execution_count": 5,
   "metadata": {},
   "outputs": [
    {
     "name": "stdout",
     "output_type": "stream",
     "text": [
      "Running Travel Salesman...\n",
      "0.999   -6.19\n",
      "0.990   -6.19\n",
      "dtype: float64\n"
     ]
    }
   ],
   "source": [
    "print(\"Running Travel Salesman...\")\n",
    "\n",
    "distances = [(0, 1, 0.274), (0, 2, 1.367), (1, 2, 1.091), (0, 3, 1.422), (1, 3, 1.153), (2, 3, 1.038),\n",
    "                        (0, 4, 1.870), (1, 4, 1.602), (2, 4, 1.495), (3, 4, 0.475), (0, 5, 1.652), (1, 5, 1.381),\n",
    "                        (2, 5, 1.537), (3, 5, 0.515), (4, 5, 0.539), (0, 6, 1.504), (1, 6, 1.324), (2, 6, 1.862),\n",
    "                        (3, 6, 1.060), (4, 6, 1.097), (5, 6, 0.664), (0, 7, 1.301), (1, 7, 1.031), (2, 7, 1.712),\n",
    "                        (3, 7, 1.031), (4, 7, 1.261), (5, 7, 0.893), (6, 7, 0.350), (0, 8, 1.219), (1, 8, 0.948),\n",
    "                        (2, 8, 1.923), (3, 8, 1.484), (4, 8, 1.723), (5, 8, 1.396), (6, 8, 0.872), (7, 8, 0.526),\n",
    "                        (0, 9, 0.529), (1, 9, 0.258), (2, 9, 1.233), (3, 9, 1.137), (4, 9, 1.560), (5, 9, 1.343),\n",
    "                        (6, 9, 1.131), (7, 9, 0.816), (8, 9, 0.704)]\n",
    "\n",
    "# Define Travel Salesman objective function and problem\n",
    "fitness = mlrose.TravellingSales(distances=distances)\n",
    "problem = mlrose.TSPOpt(length=10, fitness_fn=fitness, maximize=False)\n",
    "\n",
    "\n",
    "RANDOM_SEED = 42\n",
    "MAX_ATTEMPTS = 100\n",
    "\n",
    "#%% tuning for SA\n",
    "curve_list = []\n",
    "decays = [0.999, 0.99]\n",
    "for d in decays:\n",
    "    schedule = mlrose.GeomDecay(decay=d)\n",
    "    _, _, curve = mlrose.simulated_annealing(\n",
    "        problem,\n",
    "        schedule=schedule,\n",
    "        max_attempts=MAX_ATTEMPTS,\n",
    "        max_iters=500,\n",
    "        curve=True,\n",
    "        random_state=RANDOM_SEED,\n",
    "    )\n",
    "    curve_list.append(curve)\n",
    "    \n",
    "df = pd.DataFrame(curve_list).transpose()\n",
    "df.columns = decays\n",
    "df.plot()\n",
    "plt.xlabel(\"Iteration\")\n",
    "plt.ylabel(\"Fitness\")\n",
    "plt.title(\"TravelSalesman: Fitness curve vs decay rate in SA\")\n",
    "plt.savefig(\"output/travelsalesman_sa_decay.png\")\n",
    "plt.close()\n",
    "\n",
    "print(df.max())"
   ]
  },
  {
   "cell_type": "code",
   "execution_count": 6,
   "metadata": {},
   "outputs": [
    {
     "name": "stdout",
     "output_type": "stream",
     "text": [
      "50    -8.009\n",
      "100   -7.697\n",
      "200   -6.663\n",
      "400   -7.151\n",
      "dtype: float64\n"
     ]
    }
   ],
   "source": [
    "#%% tuning for GA\n",
    "curve_list = []\n",
    "pop_sizes = [50, 100, 200, 400]\n",
    "for p in pop_sizes:\n",
    "    _, _, curve = mlrose.genetic_alg(\n",
    "        problem,\n",
    "        max_attempts=MAX_ATTEMPTS,\n",
    "        max_iters=500,\n",
    "        pop_size=p,\n",
    "        curve=True,\n",
    "        random_state=RANDOM_SEED,\n",
    "    )\n",
    "    curve_list.append(curve)\n",
    "\n",
    "df = pd.DataFrame(curve_list).transpose()\n",
    "df.columns = pop_sizes\n",
    "df.plot()\n",
    "plt.xlabel(\"Iteration\")\n",
    "plt.ylabel(\"Fitness\")\n",
    "plt.title(\"Travel Salesman: Fitness curve vs population size in GA\")\n",
    "plt.savefig(\"output/travelsalesman_ga_pop.png\")\n",
    "plt.close()\n",
    "\n",
    "print(df.max())"
   ]
  },
  {
   "cell_type": "code",
   "execution_count": 8,
   "metadata": {},
   "outputs": [
    {
     "name": "stdout",
     "output_type": "stream",
     "text": [
      "0.2   -6.829\n",
      "0.4   -7.122\n",
      "dtype: float64\n"
     ]
    }
   ],
   "source": [
    "#%% tuning for MIMIC\n",
    "curve_list = []\n",
    "nth_pct = [0.2, 0.4]\n",
    "for p in nth_pct:\n",
    "    _, _, curve = mlrose.mimic(\n",
    "        problem,\n",
    "        max_attempts=MAX_ATTEMPTS,\n",
    "        max_iters=50,\n",
    "        keep_pct=p,\n",
    "        curve=True,\n",
    "        random_state=RANDOM_SEED,\n",
    "    )\n",
    "    curve_list.append(curve)\n",
    "\n",
    "df = pd.DataFrame(curve_list).transpose()\n",
    "df.columns = nth_pct\n",
    "df.plot()\n",
    "plt.xlabel(\"Iteration\")\n",
    "plt.ylabel(\"Fitness\")\n",
    "plt.title(\"Travel Salesman: Fitness curve vs nth percentile in MIMIC\")\n",
    "plt.savefig(\"output/travelsalesman_mimic_nth.png\")\n",
    "plt.close()\n",
    "\n",
    "print(df.max())\n",
    "\n"
   ]
  },
  {
   "cell_type": "code",
   "execution_count": 7,
   "metadata": {},
   "outputs": [
    {
     "name": "stdout",
     "output_type": "stream",
     "text": [
      "time per iteration:\n",
      "[0.0002118508287292601, 0.0001874039999999937, 0.050935648000000014, 0.3101861764705882]\n",
      "number of func eval reaching maxima:\n",
      "[81, 261, 5000, 400]\n",
      "maxima reached:\n",
      "RHC     -6.190\n",
      "SA      -6.190\n",
      "GA      -6.663\n",
      "MIMIC   -7.122\n",
      "dtype: float64\n"
     ]
    }
   ],
   "source": [
    "#%% Putting together\n",
    "curve_list = []\n",
    "time_list = []\n",
    "n_eval = []\n",
    "algo_list = [\"RHC\", \"SA\", \"GA\", \"MIMIC\"]\n",
    "\n",
    "# RHC\n",
    "t1 = process_time()\n",
    "_, _, curve = mlrose.random_hill_climb(\n",
    "    problem,\n",
    "    max_attempts=MAX_ATTEMPTS,\n",
    "    max_iters=500,\n",
    "    curve=True,\n",
    "    random_state=RANDOM_SEED,\n",
    ")\n",
    "t2 = process_time()\n",
    "time_list.append((t2 - t1) / len(curve))\n",
    "curve_list.append(curve)\n",
    "n_eval.append(np.argmax(curve) + 1)\n",
    "\n",
    "# SA\n",
    "t1 = process_time()\n",
    "_, _, curve = mlrose.simulated_annealing(\n",
    "    problem,\n",
    "    max_attempts=MAX_ATTEMPTS,\n",
    "    max_iters=500,\n",
    "    curve=True,\n",
    "    random_state=RANDOM_SEED,\n",
    ")\n",
    "t2 = process_time()\n",
    "time_list.append((t2 - t1) / len(curve))\n",
    "curve_list.append(curve)\n",
    "n_eval.append(np.argmax(curve) + 1)\n",
    "\n",
    "# GA\n",
    "t1 = process_time()\n",
    "_, _, curve = mlrose.genetic_alg(\n",
    "    problem, max_attempts=MAX_ATTEMPTS, curve=True, random_state=RANDOM_SEED,\n",
    ")\n",
    "t2 = process_time()\n",
    "time_list.append((t2 - t1) / len(curve))\n",
    "curve_list.append(curve)\n",
    "n_eval.append((np.argmax(curve) + 1) * 200)\n",
    "\n",
    "# MIMIC\n",
    "t1 = process_time()\n",
    "_, _, curve = mlrose.mimic(\n",
    "    problem,\n",
    "    max_attempts=MAX_ATTEMPTS,\n",
    "    keep_pct=0.4,\n",
    "    curve=True,\n",
    "    random_state=RANDOM_SEED,\n",
    ")\n",
    "t2 = process_time()\n",
    "time_list.append((t2 - t1) / len(curve))\n",
    "curve_list.append(curve)\n",
    "n_eval.append((np.argmax(curve) + 1) * 200)\n",
    "\n",
    "df = pd.DataFrame(curve_list).transpose()\n",
    "df.columns = algo_list\n",
    "df.plot()\n",
    "plt.xlabel(\"Iteration\")\n",
    "plt.ylabel(\"Fitness\")\n",
    "plt.title(\"Travel Salesman: Fitness curve vs algorithms\")\n",
    "plt.savefig(\"output/travelsalesman_algo.png\")\n",
    "plt.close()\n",
    "\n",
    "print(\"time per iteration:\")\n",
    "print(time_list)\n",
    "print(\"number of func eval reaching maxima:\")\n",
    "print(n_eval)\n",
    "print(\"maxima reached:\")\n",
    "print(df.max())"
   ]
  },
  {
   "cell_type": "code",
   "execution_count": null,
   "metadata": {},
   "outputs": [],
   "source": []
  }
 ],
 "metadata": {
  "kernelspec": {
   "display_name": "Python 3",
   "language": "python",
   "name": "python3"
  },
  "language_info": {
   "codemirror_mode": {
    "name": "ipython",
    "version": 3
   },
   "file_extension": ".py",
   "mimetype": "text/x-python",
   "name": "python",
   "nbconvert_exporter": "python",
   "pygments_lexer": "ipython3",
   "version": "3.8.8"
  }
 },
 "nbformat": 4,
 "nbformat_minor": 2
}
