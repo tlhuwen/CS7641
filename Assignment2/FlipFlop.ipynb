{
 "cells": [
  {
   "cell_type": "code",
   "execution_count": 1,
   "metadata": {},
   "outputs": [],
   "source": [
    "import six\n",
    "import sys\n",
    "sys.modules['sklearn.externals.six'] = six"
   ]
  },
  {
   "cell_type": "code",
   "execution_count": 2,
   "metadata": {},
   "outputs": [],
   "source": [
    "import mlrose\n",
    "import matplotlib.pyplot as plt\n",
    "import pandas as pd\n",
    "import numpy as np\n",
    "from time import process_time"
   ]
  },
  {
   "cell_type": "code",
   "execution_count": 4,
   "metadata": {},
   "outputs": [
    {
     "name": "stdout",
     "output_type": "stream",
     "text": [
      "Running FlipFlop...\n",
      "0.999    81.0\n",
      "0.990    90.0\n",
      "0.900    89.0\n",
      "dtype: float64\n"
     ]
    },
    {
     "name": "stderr",
     "output_type": "stream",
     "text": [
      "/Users/chux/Desktop/mlrose/mlrose/algorithms.py:311: RuntimeWarning: overflow encountered in exp\n",
      "  prob = np.exp(delta_e/temp)\n"
     ]
    }
   ],
   "source": [
    "print(\"Running FlipFlop...\")\n",
    "\n",
    "fitness = mlrose.FlipFlop()\n",
    "problem = mlrose.DiscreteOpt(100, fitness)\n",
    "\n",
    "RANDOM_SEED = 42\n",
    "MAX_ATTEMPTS = 100\n",
    "\n",
    "#%% tuning for SA\n",
    "curve_list = []\n",
    "decays = [0.999, 0.99, 0.9]\n",
    "for d in decays:\n",
    "    schedule = mlrose.GeomDecay(decay=d)\n",
    "    _, _, curve = mlrose.simulated_annealing(\n",
    "        problem,\n",
    "        schedule=schedule,\n",
    "        max_attempts=MAX_ATTEMPTS,\n",
    "        max_iters=500,\n",
    "        curve=True,\n",
    "        random_state=RANDOM_SEED,\n",
    "    )\n",
    "    curve_list.append(curve)\n",
    "    \n",
    "df = pd.DataFrame(curve_list).transpose()\n",
    "df.columns = decays\n",
    "df.plot()\n",
    "plt.xlabel(\"Iteration\")\n",
    "plt.ylabel(\"Fitness\")\n",
    "plt.title(\"FlipFlop: Fitness curve vs decay rate in SA\")\n",
    "plt.savefig(\"output/flipflop_sa_decay.png\")\n",
    "plt.close()\n",
    "\n",
    "print(df.max())"
   ]
  },
  {
   "cell_type": "code",
   "execution_count": 5,
   "metadata": {},
   "outputs": [
    {
     "name": "stdout",
     "output_type": "stream",
     "text": [
      "50     69.0\n",
      "100    71.0\n",
      "200    72.0\n",
      "400    72.0\n",
      "dtype: float64\n"
     ]
    }
   ],
   "source": [
    "#%% tuning for GA\n",
    "curve_list = []\n",
    "pop_sizes = [50, 100, 200, 400]\n",
    "for p in pop_sizes:\n",
    "    _, _, curve = mlrose.genetic_alg(\n",
    "        problem,\n",
    "        max_attempts=MAX_ATTEMPTS,\n",
    "        max_iters=500,\n",
    "        pop_size=p,\n",
    "        curve=True,\n",
    "        random_state=RANDOM_SEED,\n",
    "    )\n",
    "    curve_list.append(curve)\n",
    "\n",
    "df = pd.DataFrame(curve_list).transpose()\n",
    "df.columns = pop_sizes\n",
    "df.plot()\n",
    "plt.xlabel(\"Iteration\")\n",
    "plt.ylabel(\"Fitness\")\n",
    "plt.title(\"FlipFlop: Fitness curve vs population size in GA\")\n",
    "plt.savefig(\"output/flipflop_ga_pop.png\")\n",
    "plt.close()\n",
    "\n",
    "print(df.max())"
   ]
  },
  {
   "cell_type": "code",
   "execution_count": 6,
   "metadata": {},
   "outputs": [
    {
     "name": "stdout",
     "output_type": "stream",
     "text": [
      "0.2    89.0\n",
      "0.4    88.0\n",
      "dtype: float64\n"
     ]
    }
   ],
   "source": [
    "#%% tuning for MIMIC\n",
    "curve_list = []\n",
    "nth_pct = [0.2, 0.4]\n",
    "for p in nth_pct:\n",
    "    _, _, curve = mlrose.mimic(\n",
    "        problem,\n",
    "        max_attempts=MAX_ATTEMPTS,\n",
    "        max_iters=50,\n",
    "        keep_pct=p,\n",
    "        curve=True,\n",
    "        random_state=RANDOM_SEED,\n",
    "    )\n",
    "    curve_list.append(curve)\n",
    "\n",
    "df = pd.DataFrame(curve_list).transpose()\n",
    "df.columns = nth_pct\n",
    "df.plot()\n",
    "plt.xlabel(\"Iteration\")\n",
    "plt.ylabel(\"Fitness\")\n",
    "plt.title(\"FlipFlop: Fitness curve vs nth percentile in MIMIC\")\n",
    "plt.savefig(\"output/flipflop_mimic_nth.png\")\n",
    "plt.close()\n",
    "\n",
    "print(df.max())\n",
    "\n"
   ]
  },
  {
   "cell_type": "code",
   "execution_count": 7,
   "metadata": {},
   "outputs": [
    {
     "name": "stdout",
     "output_type": "stream",
     "text": [
      "time per iteration:\n",
      "[5.9032710280610945e-05, 6.984799999997903e-05, 0.024140107843137467, 4.519329533834587]\n",
      "number of func eval reaching maxima:\n",
      "[114, 212, 20800, 6600]\n",
      "maxima reached:\n",
      "RHC      82.0\n",
      "SA       90.0\n",
      "GA       72.0\n",
      "MIMIC    88.0\n",
      "dtype: float64\n"
     ]
    }
   ],
   "source": [
    "#%% Putting together\n",
    "curve_list = []\n",
    "time_list = []\n",
    "n_eval = []\n",
    "algo_list = [\"RHC\", \"SA\", \"GA\", \"MIMIC\"]\n",
    "\n",
    "# RHC\n",
    "t1 = process_time()\n",
    "_, _, curve = mlrose.random_hill_climb(\n",
    "    problem,\n",
    "    max_attempts=MAX_ATTEMPTS,\n",
    "    max_iters=500,\n",
    "    curve=True,\n",
    "    random_state=RANDOM_SEED,\n",
    ")\n",
    "t2 = process_time()\n",
    "time_list.append((t2 - t1) / len(curve))\n",
    "curve_list.append(curve)\n",
    "n_eval.append(np.argmax(curve) + 1)\n",
    "\n",
    "# SA\n",
    "t1 = process_time()\n",
    "_, _, curve = mlrose.simulated_annealing(\n",
    "    problem,\n",
    "    max_attempts=MAX_ATTEMPTS,\n",
    "    max_iters=500,\n",
    "    curve=True,\n",
    "    random_state=RANDOM_SEED,\n",
    ")\n",
    "t2 = process_time()\n",
    "time_list.append((t2 - t1) / len(curve))\n",
    "curve_list.append(curve)\n",
    "n_eval.append(np.argmax(curve) + 1)\n",
    "\n",
    "# GA\n",
    "t1 = process_time()\n",
    "_, _, curve = mlrose.genetic_alg(\n",
    "    problem, max_attempts=MAX_ATTEMPTS, curve=True, random_state=RANDOM_SEED,\n",
    ")\n",
    "t2 = process_time()\n",
    "time_list.append((t2 - t1) / len(curve))\n",
    "curve_list.append(curve)\n",
    "n_eval.append((np.argmax(curve) + 1) * 200)\n",
    "\n",
    "# MIMIC\n",
    "t1 = process_time()\n",
    "_, _, curve = mlrose.mimic(\n",
    "    problem,\n",
    "    max_attempts=MAX_ATTEMPTS,\n",
    "    keep_pct=0.4,\n",
    "    curve=True,\n",
    "    random_state=RANDOM_SEED,\n",
    ")\n",
    "t2 = process_time()\n",
    "time_list.append((t2 - t1) / len(curve))\n",
    "curve_list.append(curve)\n",
    "n_eval.append((np.argmax(curve) + 1) * 200)\n",
    "\n",
    "df = pd.DataFrame(curve_list).transpose()\n",
    "df.columns = algo_list\n",
    "df.plot()\n",
    "plt.xlabel(\"Iteration\")\n",
    "plt.ylabel(\"Fitness\")\n",
    "plt.title(\"FlipFlop: Fitness curve vs algorithms\")\n",
    "plt.savefig(\"output/flipflop_algo.png\")\n",
    "plt.close()\n",
    "\n",
    "print(\"time per iteration:\")\n",
    "print(time_list)\n",
    "print(\"number of func eval reaching maxima:\")\n",
    "print(n_eval)\n",
    "print(\"maxima reached:\")\n",
    "print(df.max())"
   ]
  },
  {
   "cell_type": "code",
   "execution_count": 1,
   "metadata": {},
   "outputs": [],
   "source": [
    "time_per_iteration=[5.9032710280610945e-05, 6.984799999997903e-05, 0.024140107843137467, 4.519329533834587]\n",
    "X=['RHC','SA','GA','MIMIC']"
   ]
  },
  {
   "cell_type": "code",
   "execution_count": 2,
   "metadata": {},
   "outputs": [],
   "source": [
    "import matplotlib.pyplot as plt"
   ]
  },
  {
   "cell_type": "code",
   "execution_count": 3,
   "metadata": {},
   "outputs": [
    {
     "data": {
      "image/png": "[encoded data removed]",
      "text/plain": [
       "<Figure size 432x288 with 1 Axes>"
      ]
     },
     "metadata": {
      "needs_background": "light"
     },
     "output_type": "display_data"
    }
   ],
   "source": [
    "plt.bar(X,time_per_iteration)\n",
    "plt.title('Running Time for Flip Flop')\n",
    "plt.show()"
   ]
  },
  {
   "cell_type": "code",
   "execution_count": null,
   "metadata": {},
   "outputs": [],
   "source": []
  }
 ],
 "metadata": {
  "kernelspec": {
   "display_name": "Python 3",
   "language": "python",
   "name": "python3"
  },
  "language_info": {
   "codemirror_mode": {
    "name": "ipython",
    "version": 3
   },
   "file_extension": ".py",
   "mimetype": "text/x-python",
   "name": "python",
   "nbconvert_exporter": "python",
   "pygments_lexer": "ipython3",
   "version": "3.8.8"
  }
 },
 "nbformat": 4,
 "nbformat_minor": 2
}
