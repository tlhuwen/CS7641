{
 "cells": [
  {
   "cell_type": "code",
   "execution_count": 1,
   "metadata": {},
   "outputs": [],
   "source": [
    "import six\n",
    "import sys\n",
    "sys.modules['sklearn.externals.six'] = six"
   ]
  },
  {
   "cell_type": "code",
   "execution_count": 2,
   "metadata": {},
   "outputs": [],
   "source": [
    "import mlrose\n",
    "import matplotlib.pyplot as plt\n",
    "import pandas as pd\n",
    "import numpy as np\n",
    "from time import process_time"
   ]
  },
  {
   "cell_type": "code",
   "execution_count": 11,
   "metadata": {},
   "outputs": [
    {
     "name": "stdout",
     "output_type": "stream",
     "text": [
      "Running FourPeaks...\n"
     ]
    }
   ],
   "source": [
    "print(\"Running FourPeaks...\")\n",
    "\n",
    "#fitness = mlrose.FlipFlop()\n",
    "#problem = mlrose.DiscreteOpt(100, fitness)\n",
    "fitness = mlrose.FourPeaks(t_pct=0.1)\n",
    "problem = mlrose.DiscreteOpt(length=100, fitness_fn=fitness, maximize=True, max_val=2)\n",
    "\n",
    "RANDOM_SEED = 42\n",
    "MAX_ATTEMPTS = 500"
   ]
  },
  {
   "cell_type": "code",
   "execution_count": 4,
   "metadata": {},
   "outputs": [
    {
     "name": "stdout",
     "output_type": "stream",
     "text": [
      "Running FourPeaks...\n",
      "0.999    13.0\n",
      "0.990    13.0\n",
      "0.900    13.0\n",
      "dtype: float64\n"
     ]
    },
    {
     "name": "stderr",
     "output_type": "stream",
     "text": [
      "/Users/chux/Desktop/mlrose/mlrose/algorithms.py:311: RuntimeWarning: overflow encountered in exp\n",
      "  prob = np.exp(delta_e/temp)\n"
     ]
    }
   ],
   "source": [
    "#%% tuning for SA\n",
    "curve_list = []\n",
    "decays = [0.999, 0.99, 0.9]\n",
    "for d in decays:\n",
    "    schedule = mlrose.GeomDecay(decay=d)\n",
    "    _, _, curve = mlrose.simulated_annealing(\n",
    "        problem,\n",
    "        schedule=schedule,\n",
    "        max_attempts=MAX_ATTEMPTS,\n",
    "        max_iters=500,\n",
    "        curve=True,\n",
    "        random_state=RANDOM_SEED,\n",
    "    )\n",
    "    curve_list.append(curve)\n",
    "    \n",
    "df = pd.DataFrame(curve_list).transpose()\n",
    "df.columns = decays\n",
    "df.plot()\n",
    "plt.xlabel(\"Iteration\")\n",
    "plt.ylabel(\"Fitness\")\n",
    "plt.title(\"FourPeaks: Fitness curve vs decay rate in SA\")\n",
    "plt.savefig(\"output/fourpeaks_sa_decay.png\")\n",
    "plt.close()\n",
    "\n",
    "print(df.max())"
   ]
  },
  {
   "cell_type": "code",
   "execution_count": 23,
   "metadata": {},
   "outputs": [
    {
     "name": "stdout",
     "output_type": "stream",
     "text": [
      "[1. 1. 1. 1. 1. 1. 1. 1. 1. 1. 1. 1. 1. 1. 1. 1. 1. 1. 1. 1. 1. 1. 1. 1.\n",
      " 1. 1. 1. 1. 1. 1. 1. 1. 1. 1. 2. 2. 2. 2. 2. 2. 2. 2. 2. 2. 2. 2. 2. 2.\n",
      " 2. 2. 2. 2. 2. 2. 2. 2. 2. 2. 2. 2. 2. 2. 2. 2. 2. 2. 2. 3. 3. 3. 3. 3.\n",
      " 3. 3. 3. 3. 3. 3. 3. 3. 3. 3. 3. 3. 4. 4. 4. 4. 4. 4. 4. 4. 4. 4. 4. 4.\n",
      " 4. 4. 4. 4. 4. 4. 4. 4. 4. 4. 4. 4. 4. 4. 4. 4. 4. 4. 4. 4. 4. 4. 4. 4.\n",
      " 4. 4. 4. 4. 4. 4. 4. 4. 4. 4. 4. 4. 4. 4. 4.]\n",
      "[1. 1. 1. 1. 1. 1. 1. 1. 1. 1. 1. 1. 1. 1. 1. 1. 1. 1. 1. 1. 1. 1. 1. 1.\n",
      " 1. 1. 1. 1. 1. 1. 1. 1. 1. 1. 2. 2. 2. 2. 2. 2. 2. 2. 2. 2. 2. 2. 2. 2.\n",
      " 2. 2. 2. 2. 2. 2. 2. 2. 2. 2. 2. 2. 2. 2. 2. 2. 2. 2. 2. 3. 3. 3. 3. 3.\n",
      " 3. 3. 3. 3. 3. 3. 3. 3. 3. 3. 3. 3. 4. 4. 4. 4. 4. 4. 4. 4. 4. 4. 4. 4.\n",
      " 4. 4. 4. 4. 4. 4. 4. 4. 4. 4. 4. 4. 4. 4. 4. 4. 4. 4. 4. 4. 4. 4. 4. 4.\n",
      " 4. 4. 4. 4. 4. 4. 4. 4. 4. 4. 4. 4. 4. 4. 4. 4. 4. 4. 4. 4. 4. 4. 4. 4.\n",
      " 4. 4. 4. 4. 4. 4. 4. 4. 4. 4. 4. 4. 4. 4. 4. 4. 4. 4. 4. 4. 4. 4. 4. 4.\n",
      " 4. 4. 4. 4. 4. 4. 4. 4. 4. 4. 4. 4. 4. 4. 4. 4. 4. 4. 4. 4. 4. 4. 4. 4.\n",
      " 4. 4. 4. 4. 4. 4. 4. 4. 4. 4. 4. 4. 4. 4. 4. 4. 4. 4. 4. 4. 4. 4. 4. 4.\n",
      " 4. 4. 4. 4. 4. 4. 4. 4. 4. 4. 4. 4. 4. 4. 4. 4. 4. 4. 4. 4. 4. 4. 4. 4.\n",
      " 4. 4. 4. 4. 4. 4. 4. 4. 4. 4. 4. 4. 4. 4. 4. 4. 4. 4. 4. 4. 4. 4. 4. 4.\n",
      " 4. 4. 4. 4. 4. 4. 4. 4. 4. 4. 4. 4. 4. 4. 4. 4. 4. 4. 4. 4. 4.]\n",
      "[1. 1. 1. 1. 1. 1. 1. 1. 1. 1. 1. 1. 1. 1. 1. 1. 1. 1. 1. 1. 1. 1. 1. 1.\n",
      " 1. 1. 1. 1. 1. 1. 1. 1. 1. 1. 2. 2. 2. 2. 2. 2. 2. 2. 2. 2. 2. 2. 2. 2.\n",
      " 2. 2. 2. 2. 2. 2. 2. 2. 2. 2. 2. 2. 2. 2. 2. 2. 2. 2. 2. 3. 3. 3. 3. 3.\n",
      " 3. 3. 3. 3. 3. 3. 3. 3. 3. 3. 3. 3. 4. 4. 4. 4. 4. 4. 4. 4. 4. 4. 4. 4.\n",
      " 4. 4. 4. 4. 4. 4. 4. 4. 4. 4. 4. 4. 4. 4. 4. 4. 4. 4. 4. 4. 4. 4. 4. 4.\n",
      " 4. 4. 4. 4. 4. 4. 4. 4. 4. 4. 4. 4. 4. 4. 4. 4. 4. 4. 4. 4. 4. 4. 4. 4.\n",
      " 4. 4. 4. 4. 4. 4. 4. 4. 4. 4. 4. 4. 4. 4. 4. 4. 4. 4. 4. 4. 4. 4. 4. 4.\n",
      " 4. 4. 4. 4. 4. 4. 4. 4. 4. 4. 4. 4. 4. 4. 4. 4. 4. 4. 4. 4. 4. 4. 4. 4.\n",
      " 4. 4. 4. 4. 4. 4. 4. 4. 4. 4. 4. 4. 4. 4. 4. 4. 4. 4. 4. 4. 4. 4. 4. 4.\n",
      " 4. 4. 4. 4. 4. 4. 4. 4. 4. 4. 4. 4. 4. 4. 4. 4. 4. 4. 4. 4. 4. 4. 4. 4.\n",
      " 4. 4. 4. 4. 4. 4. 4. 4. 4. 4. 4. 4. 4. 4. 4. 4. 4. 4. 4. 4. 4. 4. 4. 4.\n",
      " 4. 4. 4. 4. 4. 4. 4. 4. 4. 4. 4. 4. 4. 4. 4. 4. 4. 4. 4. 4. 4. 4. 4. 4.\n",
      " 4. 4. 4. 4. 4. 4. 4. 4. 4. 4. 4. 4. 4. 4. 4. 4. 4. 4. 4. 4. 4. 4. 4. 4.\n",
      " 4. 4. 4. 4. 4. 4. 4. 4. 4. 4. 4. 4. 4. 4. 4. 4. 4. 4. 4. 4. 4. 4. 4. 4.\n",
      " 4. 4. 4. 4. 4. 4. 4. 4. 4. 4. 4. 4. 4. 4. 4. 4. 4. 4. 4. 4. 4. 4. 4. 4.\n",
      " 4. 4. 4. 4. 4. 4. 4. 4. 4. 4. 4. 4. 4. 4. 4. 4. 4. 4. 4. 4. 6. 6. 6. 6.\n",
      " 6. 6. 6. 6. 6. 6. 6. 6. 6. 6. 6. 6. 6. 6. 6. 6. 6. 6. 6. 6. 6. 6. 6. 6.\n",
      " 6. 6. 6. 6. 6. 6. 6. 6. 6. 6. 6. 6. 6. 6. 6. 6. 6. 6. 6. 6. 6. 6. 6. 6.\n",
      " 6. 6. 6. 6. 6. 6. 6. 6. 6. 6. 6. 6. 6. 6. 6. 6. 6. 6. 6. 6. 6. 6. 6. 6.\n",
      " 6. 6. 6. 6. 6. 6. 6. 6. 6. 6. 6. 6. 6. 6. 6. 6. 6. 6. 6. 6. 6. 6. 6. 6.\n",
      " 6. 6. 6. 6. 6. 6. 6. 6. 6. 6. 6. 6. 6. 6. 6. 6. 6. 6. 6. 6.]\n",
      "0    4.0\n",
      "2    4.0\n",
      "5    6.0\n",
      "dtype: float64\n"
     ]
    }
   ],
   "source": [
    "#%% tuning for HillClimbing\n",
    "curve_list = []\n",
    "max_attempts=[50,200,500]\n",
    "#fitness = mlrose.FlipFlop()\n",
    "#problem1 = mlrose.ContinuousOpt(100, fitness)\n",
    "\n",
    "for r in max_attempts:\n",
    "    _, _, curve = mlrose.random_hill_climb(\n",
    "    problem,\n",
    "    max_attempts=r,\n",
    "    max_iters=500,\n",
    "    curve=True,\n",
    "    random_state=RANDOM_SEED,\n",
    "    )\n",
    "    print(curve)\n",
    "    curve_list.append(curve)\n",
    "    \n",
    "df = pd.DataFrame(curve_list).transpose()\n",
    "df.columns = restarts\n",
    "df.plot()\n",
    "plt.xlabel(\"Iteration\")\n",
    "plt.ylabel(\"Fitness\")\n",
    "plt.title(\"FourPeaks: Fitness curve vs max attempts in Hill Climbing\")\n",
    "plt.savefig(\"output/fourpeaks_rhc_maxattempts.png\")\n",
    "plt.close()\n",
    "\n",
    "print(df.max())"
   ]
  },
  {
   "cell_type": "code",
   "execution_count": 5,
   "metadata": {},
   "outputs": [
    {
     "name": "stdout",
     "output_type": "stream",
     "text": [
      "50     113.0\n",
      "100    115.0\n",
      "200    122.0\n",
      "400    123.0\n",
      "dtype: float64\n"
     ]
    }
   ],
   "source": [
    "#%% tuning for GA\n",
    "curve_list = []\n",
    "pop_sizes = [50, 100, 200, 400]\n",
    "for p in pop_sizes:\n",
    "    _, _, curve = mlrose.genetic_alg(\n",
    "        problem,\n",
    "        max_attempts=MAX_ATTEMPTS,\n",
    "        max_iters=500,\n",
    "        pop_size=p,\n",
    "        curve=True,\n",
    "        random_state=RANDOM_SEED,\n",
    "    )\n",
    "    curve_list.append(curve)\n",
    "\n",
    "df = pd.DataFrame(curve_list).transpose()\n",
    "df.columns = pop_sizes\n",
    "df.plot()\n",
    "plt.xlabel(\"Iteration\")\n",
    "plt.ylabel(\"Fitness\")\n",
    "plt.title(\"FourPeaks: Fitness curve vs population size in GA\")\n",
    "plt.savefig(\"output/fourpeaks_ga_pop.png\")\n",
    "plt.close()\n",
    "\n",
    "print(df.max())"
   ]
  },
  {
   "cell_type": "code",
   "execution_count": 7,
   "metadata": {},
   "outputs": [
    {
     "name": "stdout",
     "output_type": "stream",
     "text": [
      "0.2    118.0\n",
      "0.4    117.0\n",
      "dtype: float64\n"
     ]
    }
   ],
   "source": [
    "#%% tuning for MIMIC\n",
    "curve_list = []\n",
    "nth_pct = [0.2, 0.4]\n",
    "for p in nth_pct:\n",
    "    _, _, curve = mlrose.mimic(\n",
    "        problem,\n",
    "        max_attempts=MAX_ATTEMPTS,\n",
    "        max_iters=50,\n",
    "        keep_pct=p,\n",
    "        curve=True,\n",
    "        random_state=RANDOM_SEED,\n",
    "    )\n",
    "    curve_list.append(curve)\n",
    "\n",
    "df = pd.DataFrame(curve_list).transpose()\n",
    "df.columns = nth_pct\n",
    "df.plot()\n",
    "plt.xlabel(\"Iteration\")\n",
    "plt.ylabel(\"Fitness\")\n",
    "plt.title(\"FourPeaks: Fitness curve vs nth percentile in MIMIC\")\n",
    "plt.savefig(\"output/fourpeaks_mimic_nth.png\")\n",
    "plt.close()\n",
    "\n",
    "print(df.max())\n",
    "\n"
   ]
  },
  {
   "cell_type": "code",
   "execution_count": 6,
   "metadata": {},
   "outputs": [
    {
     "name": "stdout",
     "output_type": "stream",
     "text": [
      "time per iteration:\n",
      "[2.781081081081417e-05, 4.398199999999974e-05, 0.020482734999999995, 4.7654325]\n",
      "number of func eval reaching maxima:\n",
      "[85, 242, 20000, 4800]\n",
      "maxima reached:\n",
      "RHC        4.0\n",
      "SA        13.0\n",
      "GA       122.0\n",
      "MIMIC    117.0\n",
      "dtype: float64\n"
     ]
    }
   ],
   "source": [
    "#%% Putting together\n",
    "curve_list = []\n",
    "time_list = []\n",
    "n_eval = []\n",
    "algo_list = [\"RHC\", \"SA\", \"GA\", \"MIMIC\"]\n",
    "\n",
    "# RHC\n",
    "t1 = process_time()\n",
    "_, _, curve = mlrose.random_hill_climb(\n",
    "    problem,\n",
    "    max_attempts=MAX_ATTEMPTS,\n",
    "    max_iters=500,\n",
    "    curve=True,\n",
    "    random_state=RANDOM_SEED,\n",
    ")\n",
    "t2 = process_time()\n",
    "time_list.append((t2 - t1) / len(curve))\n",
    "curve_list.append(curve)\n",
    "n_eval.append(np.argmax(curve) + 1)\n",
    "\n",
    "# SA\n",
    "t1 = process_time()\n",
    "_, _, curve = mlrose.simulated_annealing(\n",
    "    problem,\n",
    "    max_attempts=MAX_ATTEMPTS,\n",
    "    max_iters=500,\n",
    "    curve=True,\n",
    "    random_state=RANDOM_SEED,\n",
    ")\n",
    "t2 = process_time()\n",
    "time_list.append((t2 - t1) / len(curve))\n",
    "curve_list.append(curve)\n",
    "n_eval.append(np.argmax(curve) + 1)\n",
    "\n",
    "# GA\n",
    "t1 = process_time()\n",
    "_, _, curve = mlrose.genetic_alg(\n",
    "    problem, max_attempts=MAX_ATTEMPTS, curve=True, random_state=RANDOM_SEED,\n",
    ")\n",
    "t2 = process_time()\n",
    "time_list.append((t2 - t1) / len(curve))\n",
    "curve_list.append(curve)\n",
    "n_eval.append((np.argmax(curve) + 1) * 200)\n",
    "\n",
    "# MIMIC\n",
    "t1 = process_time()\n",
    "_, _, curve = mlrose.mimic(\n",
    "    problem,\n",
    "    max_attempts=MAX_ATTEMPTS,\n",
    "    keep_pct=0.4,\n",
    "    curve=True,\n",
    "    random_state=RANDOM_SEED,\n",
    ")\n",
    "t2 = process_time()\n",
    "time_list.append((t2 - t1) / len(curve))\n",
    "curve_list.append(curve)\n",
    "n_eval.append((np.argmax(curve) + 1) * 200)\n",
    "\n",
    "df = pd.DataFrame(curve_list).transpose()\n",
    "df.columns = algo_list\n",
    "df.plot()\n",
    "plt.xlabel(\"Iteration\")\n",
    "plt.ylabel(\"Fitness\")\n",
    "plt.title(\"FourPeaks: Fitness curve vs algorithms\")\n",
    "plt.savefig(\"output/fourpeaks_algo.png\")\n",
    "plt.close()\n",
    "\n",
    "print(\"time per iteration:\")\n",
    "print(time_list)\n",
    "print(\"number of func eval reaching maxima:\")\n",
    "print(n_eval)\n",
    "print(\"maxima reached:\")\n",
    "print(df.max())"
   ]
  },
  {
   "cell_type": "code",
   "execution_count": null,
   "metadata": {},
   "outputs": [],
   "source": []
  }
 ],
 "metadata": {
  "kernelspec": {
   "display_name": "Python 3",
   "language": "python",
   "name": "python3"
  },
  "language_info": {
   "codemirror_mode": {
    "name": "ipython",
    "version": 3
   },
   "file_extension": ".py",
   "mimetype": "text/x-python",
   "name": "python",
   "nbconvert_exporter": "python",
   "pygments_lexer": "ipython3",
   "version": "3.8.8"
  }
 },
 "nbformat": 4,
 "nbformat_minor": 2
}
