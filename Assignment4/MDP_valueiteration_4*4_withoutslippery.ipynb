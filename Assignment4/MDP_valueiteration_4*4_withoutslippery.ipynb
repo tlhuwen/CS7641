{
 "cells": [
  {
   "cell_type": "code",
   "execution_count": 1,
   "metadata": {},
   "outputs": [],
   "source": [
    "import numpy as np\n",
    "import gym\n",
    "from gym import wrappers\n",
    "import time\n",
    "import seaborn\n",
    "from tabulate import tabulate\n",
    "import matplotlib.pyplot as plt\n",
    "from scipy.stats import norm\n",
    "import matplotlib.mlab as mlab\n",
    "from matplotlib import colors"
   ]
  },
  {
   "cell_type": "code",
   "execution_count": 2,
   "metadata": {},
   "outputs": [],
   "source": [
    "def run_episode(env, policy, gamma = 1.0, render = False):\n",
    "    \"\"\" Evaluates policy by using it to run an episode and finding its\n",
    "    total reward.\n",
    "    args:\n",
    "    env: gym environment.\n",
    "    policy: the policy to be used.\n",
    "    gamma: discount factor.\n",
    "    render: boolean to turn rendering on/off.\n",
    "    returns:\n",
    "    total reward: real value of the total reward recieved by agent under policy.\n",
    "    \"\"\"\n",
    "    obs = env.reset()\n",
    "    total_reward = 0\n",
    "    step_idx = 0\n",
    "    while True:\n",
    "        if render:\n",
    "            env.render()\n",
    "        action =np.random.choice(env.action_space.n, p=policy[obs])\n",
    "        obs, reward, done,_ = env.step(action)\n",
    "        #obs, reward, done , _ = env.step(int(policy[obs]))\n",
    "        total_reward += (gamma ** step_idx * reward)\n",
    "        step_idx += 1\n",
    "        if done:\n",
    "            break\n",
    "    return total_reward"
   ]
  },
  {
   "cell_type": "code",
   "execution_count": 3,
   "metadata": {},
   "outputs": [],
   "source": [
    "def value_iteration(env, theta=0.0001, gamma=1.0, render=False):\n",
    "    \"\"\"\n",
    "    Value Iteration Algorithm.\n",
    "    \n",
    "    Args:\n",
    "        env: OpenAI env. env.P represents the transition probabilities of the environment.\n",
    "            env.P[s][a] is a list of transition tuples (prob, next_state, reward, done).\n",
    "            env.nS is a number of states in the environment. \n",
    "            env.nA is a number of actions in the environment.\n",
    "        theta: We stop evaluation once our value function change is less than theta for all states.\n",
    "        discount_factor: Gamma discount factor.\n",
    "        \n",
    "    Returns:\n",
    "        A tuple (policy, V) of the optimal policy and the optimal value function.\n",
    "    \"\"\"\n",
    "    \n",
    "    def one_step_lookahead(state, V):\n",
    "        \"\"\"\n",
    "        Helper function to calculate the value for all action in a given state.\n",
    "        \n",
    "        Args:\n",
    "            state: The state to consider (int)\n",
    "            V: The value to use as an estimator, Vector of length env.nS\n",
    "        \n",
    "        Returns:\n",
    "            A vector of length env.nA containing the expected value of each action.\n",
    "        \"\"\"\n",
    "        #q_sa = [sum([p*(r + prev_v[s_]) for p, s_, r, _ in env.P[s][a]]) for a in range(env.nA)] \n",
    "        A = np.zeros(env.nA)\n",
    "        for a in range(env.nA):\n",
    "            for prob, next_state, reward, done in env.P[state][a]:\n",
    "                A[a] += 1*prob * (reward + gamma * V[next_state])\n",
    "        return A\n",
    "    \n",
    "    err=[]\n",
    "    k=[]\n",
    "    t=[]\n",
    "    V = np.zeros(env.nS)\n",
    "    i = 0\n",
    "    totaltime=0\n",
    "    while True:\n",
    "        # Stopping condition\n",
    "        delta = 0\n",
    "        start=time.time()\n",
    "        # Update each state...\n",
    "        for s in range(env.nS):\n",
    "            # Do a one-step lookahead to find the best action\n",
    "            A = one_step_lookahead(s, V)\n",
    "            best_action_value = np.max(A)\n",
    "            # Calculate delta across all states seen so far\n",
    "            delta = max(delta, np.abs(best_action_value - V[s]))\n",
    "            # Update the value function. Ref: Sutton book eq. 4.10. \n",
    "            V[s] = best_action_value \n",
    "        end=time.time()    \n",
    "        ti=end-start\n",
    "        t.append(ti)\n",
    "        #print(t)\n",
    "        err.append(delta)\n",
    "        k.append(i)\n",
    "        i=i+1\n",
    "        totaltime=np.sum(t)\n",
    "        # Check if we can stop \n",
    "        if delta < theta:\n",
    "            print ('Value-iteration converged at iteration# %d.' %(i))\n",
    "            if render==True:\n",
    "                err=np.array(err)\n",
    "                k=np.array(k)\n",
    "                t=np.array(t)\n",
    "                \n",
    "                plt.figure(figsize=[15,6])\n",
    "                plt.subplot(1,2,1)\n",
    "                line1, = plt.plot(err,color='r',label='error')\n",
    "                plt.ylabel('error')\n",
    "                plt.xlabel('iteration')\n",
    "                plt.subplot(1,2,2)\n",
    "                line2,=plt.plot(t,color='g',label='time')\n",
    "                #plt.legend(handler_map={line1: HandlerLine2D(numpoints=2)})\n",
    "                plt.ylabel('time')\n",
    "                plt.xlabel('iteration')\n",
    "                plt.show()\n",
    "            break\n",
    "    \n",
    "    # Create a deterministic policy using the optimal value function\n",
    "    policy = np.zeros([env.nS, env.nA])\n",
    "    for s in range(env.nS):\n",
    "        # One step lookahead to find the best action for this state\n",
    "        A = one_step_lookahead(s, V)\n",
    "        best_action = np.argmax(A)\n",
    "        # Always take the best action\n",
    "        policy[s, best_action] = 1.0\n",
    "    \n",
    "    return policy, V, totaltime"
   ]
  },
  {
   "cell_type": "code",
   "execution_count": 4,
   "metadata": {},
   "outputs": [],
   "source": [
    "def evaluate_policy(env, policy, gamma = 1.0,  n = 100):\n",
    "    \"\"\" Evaluates a policy by running it n times.\n",
    "    returns:\n",
    "    average total reward\n",
    "    \"\"\"\n",
    "    scores = [\n",
    "            run_episode(env, policy, gamma = gamma, render = False)\n",
    "            for _ in range(n)]\n",
    "    return np.mean(scores)"
   ]
  },
  {
   "cell_type": "code",
   "execution_count": 5,
   "metadata": {},
   "outputs": [],
   "source": [
    "def extract_policy(v, gamma = 1.0):\n",
    "    \"\"\" Extract the policy given a value-function \"\"\"\n",
    "    policy = np.zeros(env.nS)\n",
    "    for s in range(env.nS):\n",
    "        q_sa = np.zeros(env.action_space.n)\n",
    "        for a in range(env.action_space.n):\n",
    "            for next_sr in env.P[s][a]:\n",
    "                # next_sr is a tuple of (probability, next state, reward, done)\n",
    "                p, s_, r, _ = next_sr\n",
    "                q_sa[a] += (p * (r + gamma * v[s_]))\n",
    "        policy[s] = np.argmax(q_sa)\n",
    "    return policy"
   ]
  },
  {
   "cell_type": "code",
   "execution_count": 6,
   "metadata": {},
   "outputs": [],
   "source": [
    "env_name  = 'FrozenLake-v1'\n",
    "gamma = 0.9\n",
    "env = gym.make(env_name, is_slippery=False)\n",
    "env = env.unwrapped"
   ]
  },
  {
   "cell_type": "code",
   "execution_count": 7,
   "metadata": {},
   "outputs": [
    {
     "data": {
      "text/plain": [
       "[(1.0, 15, 1.0, True)]"
      ]
     },
     "execution_count": 7,
     "metadata": {},
     "output_type": "execute_result"
    }
   ],
   "source": [
    "env.unwrapped.P[14][2] # p(s14,0|s14,a2)=1/3; p(s15,1|s14,a2)=1/3; p(s10,0|s14,a2)=1/3"
   ]
  },
  {
   "cell_type": "code",
   "execution_count": 8,
   "metadata": {},
   "outputs": [
    {
     "name": "stdout",
     "output_type": "stream",
     "text": [
      "\n",
      "\u001b[41mS\u001b[0mFFF\n",
      "FHFH\n",
      "FFFH\n",
      "HFFG\n"
     ]
    }
   ],
   "source": [
    "env.reset()\n",
    "env.render()"
   ]
  },
  {
   "cell_type": "code",
   "execution_count": 9,
   "metadata": {},
   "outputs": [
    {
     "name": "stdout",
     "output_type": "stream",
     "text": [
      "[[0.25 0.25 0.25 0.25]\n",
      " [0.25 0.25 0.25 0.25]\n",
      " [0.25 0.25 0.25 0.25]\n",
      " [0.25 0.25 0.25 0.25]\n",
      " [0.25 0.25 0.25 0.25]\n",
      " [0.25 0.25 0.25 0.25]\n",
      " [0.25 0.25 0.25 0.25]\n",
      " [0.25 0.25 0.25 0.25]\n",
      " [0.25 0.25 0.25 0.25]\n",
      " [0.25 0.25 0.25 0.25]\n",
      " [0.25 0.25 0.25 0.25]\n",
      " [0.25 0.25 0.25 0.25]\n",
      " [0.25 0.25 0.25 0.25]\n",
      " [0.25 0.25 0.25 0.25]\n",
      " [0.25 0.25 0.25 0.25]\n",
      " [0.25 0.25 0.25 0.25]]\n"
     ]
    }
   ],
   "source": [
    "random_policy = np.ones((env.unwrapped.nS, env.unwrapped.nA))/env.unwrapped.nA\n",
    "print(random_policy)"
   ]
  },
  {
   "cell_type": "code",
   "execution_count": 10,
   "metadata": {},
   "outputs": [],
   "source": [
    "episode_rewards=[run_episode(env, random_policy,gamma=gamma) for _ in range(100)]"
   ]
  },
  {
   "cell_type": "code",
   "execution_count": 11,
   "metadata": {},
   "outputs": [
    {
     "name": "stdout",
     "output_type": "stream",
     "text": [
      "The average reward for random policy is 0.01\n"
     ]
    }
   ],
   "source": [
    "print('The average reward for random policy is {:.2f}'.format(np.mean(episode_rewards)))"
   ]
  },
  {
   "cell_type": "markdown",
   "metadata": {},
   "source": [
    "The expectation of the rewards with random policy is close to 0. This means random policy can't almost reach the target location successfully"
   ]
  },
  {
   "cell_type": "code",
   "execution_count": 12,
   "metadata": {},
   "outputs": [
    {
     "name": "stdout",
     "output_type": "stream",
     "text": [
      "Value-iteration converged at iteration# 7.\n"
     ]
    },
    {
     "data": {
      "image/png": "[encoded data removed]",
      "text/plain": [
       "<Figure size 1080x432 with 2 Axes>"
      ]
     },
     "metadata": {
      "needs_background": "light"
     },
     "output_type": "display_data"
    }
   ],
   "source": [
    "policy, v, _ = value_iteration(env,theta=1e-20, gamma=gamma, render=True)"
   ]
  },
  {
   "cell_type": "code",
   "execution_count": 13,
   "metadata": {},
   "outputs": [
    {
     "data": {
      "text/plain": [
       "16"
      ]
     },
     "execution_count": 13,
     "metadata": {},
     "output_type": "execute_result"
    }
   ],
   "source": [
    "policy1 = extract_policy(v,gamma=gamma)\n",
    "len(policy1)"
   ]
  },
  {
   "cell_type": "code",
   "execution_count": 14,
   "metadata": {},
   "outputs": [
    {
     "data": {
      "text/plain": [
       "array([1., 2., 1., 0., 1., 0., 1., 0., 2., 1., 1., 0., 0., 2., 2., 0.])"
      ]
     },
     "execution_count": 14,
     "metadata": {},
     "output_type": "execute_result"
    }
   ],
   "source": [
    "policy1"
   ]
  },
  {
   "cell_type": "code",
   "execution_count": 15,
   "metadata": {},
   "outputs": [
    {
     "name": "stdout",
     "output_type": "stream",
     "text": [
      "[['D' 'R' 'D' 'L']\n",
      " ['D' 'L' 'D' 'L']\n",
      " ['R' 'D' 'D' 'L']\n",
      " ['L' 'R' 'R' 'L']]\n"
     ]
    }
   ],
   "source": [
    "ps=[]\n",
    "pscha=[]\n",
    "for elem in policy1:\n",
    "    ps.append(elem)\n",
    "    if elem==1.0:\n",
    "        pscha.append('D')\n",
    "    elif elem==2.0:\n",
    "        pscha.append('R')\n",
    "    elif elem==0.0:\n",
    "        pscha.append('L')\n",
    "    else:\n",
    "        pscha.append('U')\n",
    "\n",
    "reshaped_policy=np.reshape(pscha,(4,4))\n",
    "print(reshaped_policy)\n",
    "#print(tabulate(reshaped_policy,tablefmt='latex'))"
   ]
  },
  {
   "cell_type": "code",
   "execution_count": 16,
   "metadata": {},
   "outputs": [],
   "source": [
    "data=np.ones([4,4])*20\n",
    "data[0,0]=10\n",
    "data[1,1]=7\n",
    "data[1,3]=7\n",
    "data[3,0]=7\n",
    "data[3,3]=0"
   ]
  },
  {
   "cell_type": "code",
   "execution_count": 17,
   "metadata": {},
   "outputs": [],
   "source": [
    "# create discrete colormap\n",
    "cmap = colors.ListedColormap(['green', 'red','orange','blue'])\n",
    "bounds = [0,5,10,15,20]\n",
    "norm = colors.BoundaryNorm(bounds, cmap.N)"
   ]
  },
  {
   "cell_type": "code",
   "execution_count": 18,
   "metadata": {},
   "outputs": [
    {
     "data": {
      "image/png": "[encoded data removed]",
      "text/plain": [
       "<Figure size 432x432 with 1 Axes>"
      ]
     },
     "metadata": {
      "needs_background": "light"
     },
     "output_type": "display_data"
    }
   ],
   "source": [
    "fig, ax = plt.subplots(figsize=(6,6))\n",
    "ax.imshow(data, cmap=cmap)\n",
    "\n",
    "# draw gridlines\n",
    "ax.set_xticks(np.arange(-.5, 4.5, 1));\n",
    "ax.set_yticks(np.arange(-.5, 4.5, 1));\n",
    "ax.grid(True)\n",
    "ax.set_xticklabels([])\n",
    "ax.set_yticklabels([])\n",
    "\n",
    "for iy in range(4):\n",
    "    for ix in range(4):\n",
    "    #print(x)\n",
    "        if iy==1 and ix==1:\n",
    "            continue\n",
    "        if iy==1 and ix==3:\n",
    "            continue\n",
    "        if iy==3 and ix==0:\n",
    "            continue\n",
    "        if iy==3 and ix==3:\n",
    "            continue\n",
    "        if reshaped_policy[iy,ix]=='D':\n",
    "            #ax.text(x[1], x[0], policy[x], fontsize=25,      color='blue')\n",
    "            ax.annotate('', xy=(ix, iy+0.25), xytext=(ix, iy-0.25),\n",
    "                arrowprops=dict(facecolor='yellow', shrink=0.05))\n",
    "        elif reshaped_policy[iy,ix]=='L':\n",
    "            #ax.text(x[1], x[0], policy[x], fontsize=25,      color='green')\n",
    "            ax.annotate('', xy=(ix-0.25, iy), xytext=(ix+0.25, iy),\n",
    "                arrowprops=dict(facecolor='yellow', shrink=0.05))\n",
    "        elif reshaped_policy[iy,ix]=='U':  \n",
    "            #ax.text(x[1], x[0], policy[x], fontsize=25,      color='blueviolet')\n",
    "            ax.annotate('', xy=(ix, iy-0.25), xytext=(ix, iy+0.25),\n",
    "                arrowprops=dict(facecolor='yellow', shrink=0.05))\n",
    "        else:\n",
    "            ax.annotate('', xy=(ix+0.25, iy), xytext=(ix-0.25, iy),\n",
    "                arrowprops=dict(facecolor='yellow', shrink=0.05))\n",
    "            #ax.text(x[1], x[0], policy[x], fontsize=25,      color='k')\n",
    "\n",
    "\n",
    "            #print(reshaped_policy[iy,ix])\n"
   ]
  },
  {
   "cell_type": "code",
   "execution_count": 19,
   "metadata": {},
   "outputs": [],
   "source": [
    "LEFT = 0\n",
    "DOWN = 1\n",
    "RIGHT = 2\n",
    "UP = 3"
   ]
  },
  {
   "cell_type": "code",
   "execution_count": 20,
   "metadata": {},
   "outputs": [
    {
     "name": "stdout",
     "output_type": "stream",
     "text": [
      "Policy Probability Distribution:\n",
      "[[0. 1. 0. 0.]\n",
      " [0. 0. 1. 0.]\n",
      " [0. 1. 0. 0.]\n",
      " [1. 0. 0. 0.]\n",
      " [0. 1. 0. 0.]\n",
      " [1. 0. 0. 0.]\n",
      " [0. 1. 0. 0.]\n",
      " [1. 0. 0. 0.]\n",
      " [0. 0. 1. 0.]\n",
      " [0. 1. 0. 0.]\n",
      " [0. 1. 0. 0.]\n",
      " [1. 0. 0. 0.]\n",
      " [1. 0. 0. 0.]\n",
      " [0. 0. 1. 0.]\n",
      " [0. 0. 1. 0.]\n",
      " [1. 0. 0. 0.]]\n",
      "\n",
      "Reshaped Grid Policy (0=left, 1=down, 2=right, 3=up):\n",
      "[[1 2 1 0]\n",
      " [1 0 1 0]\n",
      " [2 1 1 0]\n",
      " [0 2 2 0]]\n",
      "\n",
      "Value Function:\n",
      "[0.59049 0.6561  0.729   0.6561  0.6561  0.      0.81    0.      0.729\n",
      " 0.81    0.9     0.      0.      0.9     1.      0.     ]\n",
      "\n",
      "Reshaped Grid Value Function:\n",
      "[[0.59049 0.6561  0.729   0.6561 ]\n",
      " [0.6561  0.      0.81    0.     ]\n",
      " [0.729   0.81    0.9     0.     ]\n",
      " [0.      0.9     1.      0.     ]]\n",
      "\n"
     ]
    }
   ],
   "source": [
    "print(\"Policy Probability Distribution:\")\n",
    "print(policy)\n",
    "print(\"\")\n",
    "\n",
    "print(\"Reshaped Grid Policy (0=left, 1=down, 2=right, 3=up):\")\n",
    "print(np.reshape(np.argmax(policy, axis=1), [4,4]))\n",
    "print(\"\")\n",
    "\n",
    "print(\"Value Function:\")\n",
    "print(v)\n",
    "print(\"\")\n",
    "\n",
    "print(\"Reshaped Grid Value Function:\")\n",
    "print(v.reshape([4,4]))\n",
    "print(\"\")"
   ]
  },
  {
   "cell_type": "code",
   "execution_count": 21,
   "metadata": {},
   "outputs": [
    {
     "data": {
      "text/plain": [
       "16"
      ]
     },
     "execution_count": 21,
     "metadata": {},
     "output_type": "execute_result"
    }
   ],
   "source": [
    "len(v)"
   ]
  },
  {
   "cell_type": "code",
   "execution_count": 22,
   "metadata": {},
   "outputs": [
    {
     "data": {
      "text/plain": [
       "Text(0.5, 1.0, 'Value at each location')"
      ]
     },
     "execution_count": 22,
     "metadata": {},
     "output_type": "execute_result"
    },
    {
     "data": {
      "image/png": "[encoded data removed]",
      "text/plain": [
       "<Figure size 648x648 with 2 Axes>"
      ]
     },
     "metadata": {
      "needs_background": "light"
     },
     "output_type": "display_data"
    }
   ],
   "source": [
    "x = v.reshape(4, 4)\n",
    "f, ax = plt.subplots(figsize=(9, 9))\n",
    "cmap=seaborn.diverging_palette(0, 200, s=50, l=77,\n",
    "                                  n=90, center=\"dark\", as_cmap=True)\n",
    "#cmap = seaborn.diverging_palette(220, 20, as_cmap=True)\n",
    "ax = seaborn.heatmap(x, cmap='cool',square=True, xticklabels=4+1, yticklabels=4+1,\n",
    "       linewidths=.5, cbar_kws={\"shrink\": .5}, ax=ax)\n",
    "plt.title('Value at each location')"
   ]
  },
  {
   "cell_type": "code",
   "execution_count": 23,
   "metadata": {},
   "outputs": [
    {
     "name": "stdout",
     "output_type": "stream",
     "text": [
      "Value-iteration converged at iteration# 7.\n",
      "Value-iteration converged at iteration# 7.\n",
      "Value-iteration converged at iteration# 7.\n",
      "Value-iteration converged at iteration# 7.\n",
      "Value-iteration converged at iteration# 7.\n",
      "Value-iteration converged at iteration# 7.\n",
      "Value-iteration converged at iteration# 7.\n",
      "Value-iteration converged at iteration# 7.\n",
      "Value-iteration converged at iteration# 7.\n",
      "Value-iteration converged at iteration# 7.\n",
      "Value-iteration converged at iteration# 7.\n",
      "Value-iteration converged at iteration# 7.\n",
      "Value-iteration converged at iteration# 7.\n",
      "Value-iteration converged at iteration# 7.\n",
      "Value-iteration converged at iteration# 7.\n",
      "Value-iteration converged at iteration# 7.\n",
      "Value-iteration converged at iteration# 7.\n",
      "Value-iteration converged at iteration# 7.\n",
      "Value-iteration converged at iteration# 7.\n",
      "Value-iteration converged at iteration# 7.\n",
      "Value-iteration converged at iteration# 7.\n",
      "Value-iteration converged at iteration# 7.\n",
      "Value-iteration converged at iteration# 7.\n",
      "Value-iteration converged at iteration# 7.\n",
      "Value-iteration converged at iteration# 7.\n",
      "Value-iteration converged at iteration# 7.\n",
      "Value-iteration converged at iteration# 7.\n",
      "Value-iteration converged at iteration# 7.\n",
      "Value-iteration converged at iteration# 7.\n",
      "Value-iteration converged at iteration# 7.\n",
      "Value-iteration converged at iteration# 7.\n",
      "Value-iteration converged at iteration# 7.\n",
      "Value-iteration converged at iteration# 7.\n",
      "Value-iteration converged at iteration# 7.\n",
      "Value-iteration converged at iteration# 7.\n",
      "Value-iteration converged at iteration# 7.\n",
      "Value-iteration converged at iteration# 7.\n",
      "Value-iteration converged at iteration# 7.\n",
      "Value-iteration converged at iteration# 7.\n",
      "Value-iteration converged at iteration# 7.\n",
      "Value-iteration converged at iteration# 7.\n",
      "Value-iteration converged at iteration# 7.\n",
      "Value-iteration converged at iteration# 7.\n",
      "Value-iteration converged at iteration# 7.\n",
      "Value-iteration converged at iteration# 7.\n",
      "Value-iteration converged at iteration# 7.\n",
      "Value-iteration converged at iteration# 7.\n",
      "Value-iteration converged at iteration# 7.\n",
      "Value-iteration converged at iteration# 7.\n",
      "Value-iteration converged at iteration# 7.\n",
      "Value-iteration converged at iteration# 7.\n",
      "Value-iteration converged at iteration# 7.\n",
      "Value-iteration converged at iteration# 7.\n",
      "Value-iteration converged at iteration# 7.\n",
      "Value-iteration converged at iteration# 7.\n",
      "Value-iteration converged at iteration# 7.\n",
      "Value-iteration converged at iteration# 7.\n",
      "Value-iteration converged at iteration# 7.\n",
      "Value-iteration converged at iteration# 7.\n",
      "Value-iteration converged at iteration# 7.\n",
      "Value-iteration converged at iteration# 7.\n",
      "Value-iteration converged at iteration# 7.\n",
      "Value-iteration converged at iteration# 7.\n",
      "Value-iteration converged at iteration# 7.\n",
      "Value-iteration converged at iteration# 7.\n",
      "Value-iteration converged at iteration# 7.\n",
      "Value-iteration converged at iteration# 7.\n",
      "Value-iteration converged at iteration# 7.\n",
      "Value-iteration converged at iteration# 7.\n",
      "Value-iteration converged at iteration# 7.\n",
      "Value-iteration converged at iteration# 7.\n",
      "Value-iteration converged at iteration# 7.\n",
      "Value-iteration converged at iteration# 7.\n",
      "Value-iteration converged at iteration# 7.\n",
      "Value-iteration converged at iteration# 7.\n",
      "Value-iteration converged at iteration# 7.\n",
      "Value-iteration converged at iteration# 7.\n",
      "Value-iteration converged at iteration# 7.\n",
      "Value-iteration converged at iteration# 7.\n",
      "Value-iteration converged at iteration# 7.\n",
      "Value-iteration converged at iteration# 7.\n",
      "Value-iteration converged at iteration# 7.\n",
      "Value-iteration converged at iteration# 7.\n",
      "Value-iteration converged at iteration# 7.\n",
      "Value-iteration converged at iteration# 7.\n",
      "Value-iteration converged at iteration# 7.\n",
      "Value-iteration converged at iteration# 7.\n",
      "Value-iteration converged at iteration# 7.\n",
      "Value-iteration converged at iteration# 7.\n",
      "Value-iteration converged at iteration# 7.\n",
      "Value-iteration converged at iteration# 7.\n",
      "Value-iteration converged at iteration# 7.\n",
      "Value-iteration converged at iteration# 7.\n",
      "Value-iteration converged at iteration# 7.\n",
      "Value-iteration converged at iteration# 7.\n",
      "Value-iteration converged at iteration# 7.\n",
      "Value-iteration converged at iteration# 7.\n",
      "Value-iteration converged at iteration# 7.\n",
      "Value-iteration converged at iteration# 7.\n",
      "Value-iteration converged at iteration# 7.\n"
     ]
    }
   ],
   "source": [
    "s=[]\n",
    "for i in range(100):\n",
    "    _,_,t=value_iteration(env, gamma = gamma)\n",
    "    s.append(t)"
   ]
  },
  {
   "cell_type": "code",
   "execution_count": 24,
   "metadata": {},
   "outputs": [
    {
     "name": "stdout",
     "output_type": "stream",
     "text": [
      "mu is 0.00118, sigma is 0.00070\n"
     ]
    }
   ],
   "source": [
    "from scipy.stats import norm\n",
    "s=np.array(s)\n",
    "(mu, sigma) = norm.fit(s)\n",
    "#formatted_mu = \"{:.2f}\".format(mu)\n",
    "#formatted_sigma = \"{:.2f}\".format(sigma)\n",
    "#print(['mu is {}' %mu, ' sigma is {}'%sigma])\n",
    "print(\"mu is {:.5f}, sigma is {:.5f}\".format(mu, sigma))"
   ]
  },
  {
   "cell_type": "code",
   "execution_count": 26,
   "metadata": {},
   "outputs": [
    {
     "name": "stdout",
     "output_type": "stream",
     "text": [
      "Histogram of steps: μ=0.00118, sigma=0.00070\n"
     ]
    },
    {
     "data": {
      "image/png": "[encoded data removed]",
      "text/plain": [
       "<Figure size 432x288 with 1 Axes>"
      ]
     },
     "metadata": {
      "needs_background": "light"
     },
     "output_type": "display_data"
    }
   ],
   "source": [
    "n, bins, patches = plt.hist(s, 20, density=0, facecolor='green', alpha=0.75)\n",
    "plt.xlabel('time')\n",
    "plt.ylabel('number of episodes')\n",
    "#plt.title('Histogram of steps: μ=' + str(mu) + ' sigma=' + str(sigma))\n",
    "print(\"Histogram of steps: μ={:.5f}, sigma={:.5f}\".format(mu, sigma))\n",
    "plt.grid(True)\n",
    "plt.show()"
   ]
  },
  {
   "cell_type": "code",
   "execution_count": null,
   "metadata": {},
   "outputs": [],
   "source": []
  }
 ],
 "metadata": {
  "kernelspec": {
   "display_name": "Python 3",
   "language": "python",
   "name": "python3"
  },
  "language_info": {
   "codemirror_mode": {
    "name": "ipython",
    "version": 3
   },
   "file_extension": ".py",
   "mimetype": "text/x-python",
   "name": "python",
   "nbconvert_exporter": "python",
   "pygments_lexer": "ipython3",
   "version": "3.8.8"
  }
 },
 "nbformat": 4,
 "nbformat_minor": 2
}
