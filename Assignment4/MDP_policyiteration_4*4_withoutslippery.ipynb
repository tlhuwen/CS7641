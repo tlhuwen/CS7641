{
 "cells": [
  {
   "cell_type": "code",
   "execution_count": 1,
   "metadata": {},
   "outputs": [],
   "source": [
    "import numpy as np\n",
    "import gym\n",
    "from gym import wrappers\n",
    "import time\n",
    "import seaborn\n",
    "from tabulate import tabulate\n",
    "import matplotlib.pyplot as plt\n",
    "from scipy.stats import norm\n",
    "import matplotlib.mlab as mlab\n",
    "from matplotlib import colors"
   ]
  },
  {
   "cell_type": "code",
   "execution_count": 2,
   "metadata": {},
   "outputs": [],
   "source": [
    "def evaluate_policy(env, policy, err=[], t=[], gamma=0.9, theta=0.00001, render=False):\n",
    "    \"\"\"\n",
    "    Evaluate a policy given an environment and a full description of the environment's dynamics.\n",
    "    \n",
    "    Args:\n",
    "        policy: [S, A] shaped matrix representing the policy.\n",
    "        env: OpenAI env. env.P represents the transition probabilities of the environment.\n",
    "            env.P[s][a] is a list of transition tuples (prob, next_state, reward, done).\n",
    "            env.nS is a number of states in the environment. \n",
    "            env.nA is a number of actions in the environment.\n",
    "        theta: We stop evaluation once our value function change is less than theta for all states.\n",
    "        discount_factor: Gamma discount factor.\n",
    "    \n",
    "    Returns:\n",
    "        Vector of length env.nS representing the value function.\n",
    "    \"\"\"\n",
    "    # Start with a random (all 0) value function\n",
    "    #err=[]\n",
    "    #k=[]\n",
    "    #t=[]\n",
    "    i=0\n",
    "    V = np.zeros(env.unwrapped.nS)\n",
    "    while True:\n",
    "        delta = 0\n",
    "        start=time.time()\n",
    "        # For each state, perform a \"full backup\"\n",
    "        for s in range(env.unwrapped.nS):\n",
    "            vs = 0\n",
    "            # Look at the possible next actions\n",
    "            for a, action_prob in enumerate(policy[s]):\n",
    "                # For each action, look at the possible next states...\n",
    "                for  prob, next_state, reward, done in env.P[s][a]:\n",
    "                    # Calculate the expected value\n",
    "                    #\n",
    "                    vs +=  action_prob * prob * (reward + gamma * V[next_state])\n",
    "            # How much our value function changed (across any states)\n",
    "            delta = max(delta, np.abs(vs - V[s]))\n",
    "            V[s] = vs\n",
    "        end=time.time()    \n",
    "        ti=end-start\n",
    "        t.append(ti)\n",
    "        #print(t)\n",
    "        err.append(delta)\n",
    "        #k.append(i)\n",
    "        i=i+1\n",
    "        # Stop evaluating once our value function change is below a threshold\n",
    "        if delta < theta:\n",
    "            break\n",
    "    return np.array(V)"
   ]
  },
  {
   "cell_type": "code",
   "execution_count": 3,
   "metadata": {},
   "outputs": [],
   "source": [
    "def policy_improvement(env, V, policy, gamma=1.0):\n",
    "    \"\"\"\n",
    "    Policy Improvement Algorithm. Iteratively evaluates and improves a policy\n",
    "    until an optimal policy is found.\n",
    "    \n",
    "    Args:\n",
    "        env: The OpenAI environment.\n",
    "        policy_eval_fn: Policy Evaluation function that takes 3 arguments:\n",
    "            policy, env, discount_factor.\n",
    "        discount_factor: gamma discount factor.\n",
    "        \n",
    "    Returns:\n",
    "        A tuple (policy, V). \n",
    "        policy is the optimal policy, a matrix of shape [S, A] where each state s\n",
    "        contains a valid probability distribution over actions.\n",
    "        V is the value function for the optimal policy.\n",
    "        \n",
    "    \"\"\"\n",
    "\n",
    "    def one_step_lookahead(state, V):\n",
    "        \"\"\"\n",
    "        Helper function to calculate the value for all action in a given state.\n",
    "        \n",
    "        Args:\n",
    "            state: The state to consider (int)\n",
    "            V: The value to use as an estimator, Vector of length env.nS\n",
    "        \n",
    "        Returns:\n",
    "            A vector of length env.nA containing the expected value of each action.\n",
    "        \"\"\"\n",
    "        A = np.zeros(env.nA)\n",
    "        for a in range(env.nA):\n",
    "            for prob, next_state, reward, done in env.P[state][a]:\n",
    "                A[a] += prob * (reward + gamma * V[next_state])\n",
    "        return A\n",
    "    \n",
    "    \n",
    "    # Will be set to false if we make any changes to the policy\n",
    "    policy_stable = True\n",
    "        \n",
    "    # For each state...\n",
    "    for s in range(env.nS):\n",
    "        # The best action we would take under the current policy\n",
    "        chosen_a = np.argmax(policy[s])\n",
    "            \n",
    "        # Find the best action by one-step lookahead\n",
    "        # Ties are resolved arbitarily\n",
    "        action_values = one_step_lookahead(s, V)\n",
    "        best_a = np.argmax(action_values)\n",
    "            \n",
    "        # Greedily update the policy\n",
    "        if chosen_a != best_a:\n",
    "            policy_stable = False\n",
    "        policy[s] = np.eye(env.nA)[best_a]\n",
    "        \n",
    "    # If the policy is stable we've found an optimal policy. Return it\n",
    "    return policy_stable"
   ]
  },
  {
   "cell_type": "code",
   "execution_count": 4,
   "metadata": {},
   "outputs": [],
   "source": [
    "def policy_iteration(env, theta=1e-20, gamma=0.9, render=False):\n",
    "    # Start with a random policy\n",
    "    policy = np.ones([env.unwrapped.nS, env.unwrapped.nA]) / env.unwrapped.nA\n",
    "    score=[]\n",
    "    #i = 0\n",
    "    #t=[]\n",
    "    #err=[]\n",
    "    totaltime=0\n",
    "    while True:\n",
    "        t=[]\n",
    "        err=[]\n",
    "        V = evaluate_policy(env, policy, err, t, gamma, theta)\n",
    "        score.append(np.mean(V))\n",
    "        totaltime+=np.sum(t)\n",
    "        if render == True:\n",
    "            print('value iteration for this policy improvement is ', len(err))\n",
    "            err=np.array(err)\n",
    "            #kp=np.array(kp)\n",
    "            t=np.array(t)\n",
    "            \n",
    "            plt.figure(figsize=[15,6])\n",
    "            plt.subplot(1,2,1)\n",
    "            line1, = plt.plot(err,color='r',label='error')\n",
    "            plt.ylabel('error')\n",
    "            plt.xlabel('iteration')\n",
    "            plt.subplot(1,2,2)\n",
    "            line2,=plt.plot(t,color='g',label='time')\n",
    "            #plt.legend(handler_map={line1: HandlerLine2D(numpoints=2)})\n",
    "            plt.ylabel('time')\n",
    "            plt.xlabel('iteration')\n",
    "            plt.show()\n",
    "        #print(t)\n",
    "        #print(err)\n",
    "        #print(kp)\n",
    "        #i = i+1\n",
    "        if policy_improvement(env, V, policy, gamma):\n",
    "            #print ('Policy-iteration converged at iteration# %d.' %(i))\n",
    "            \n",
    "            break\n",
    "    return policy, V, totaltime"
   ]
  },
  {
   "cell_type": "code",
   "execution_count": 5,
   "metadata": {},
   "outputs": [],
   "source": [
    "def extract_policy(v, gamma = 0.9):\n",
    "    \"\"\" Extract the policy given a value-function \"\"\"\n",
    "    policy = np.zeros(env.nS)\n",
    "    for s in range(env.nS):\n",
    "        q_sa = np.zeros(env.nA)\n",
    "        for a in range(env.nA):\n",
    "            q_sa[a] = sum([p * (r + gamma * v[s_]) for p, s_, r, _ in  env.P[s][a]])\n",
    "        policy[s] = np.argmax(q_sa)\n",
    "    return policy"
   ]
  },
  {
   "cell_type": "code",
   "execution_count": 6,
   "metadata": {},
   "outputs": [],
   "source": [
    "def play_policy(env, policy, render=False):\n",
    "    total_reward=0.\n",
    "    observation = env.reset()\n",
    "    while True:\n",
    "        if render:\n",
    "            env.render()\n",
    "        action = np.random.choice(env.action_space.n, p=policy[observation])\n",
    "        observation,reward,done,_ = env.step(action)\n",
    "        total_reward += reward\n",
    "        if done:\n",
    "            break\n",
    "    return total_reward"
   ]
  },
  {
   "cell_type": "code",
   "execution_count": 7,
   "metadata": {},
   "outputs": [],
   "source": [
    "env_name  = 'FrozenLake-v1'\n",
    "env = gym.make(env_name, is_slippery=False)\n",
    "env = env.unwrapped\n",
    "\n",
    "gamma = 0.9"
   ]
  },
  {
   "cell_type": "code",
   "execution_count": 8,
   "metadata": {},
   "outputs": [
    {
     "name": "stdout",
     "output_type": "stream",
     "text": [
      "value iteration for this policy improvement is  95\n"
     ]
    },
    {
     "data": {
      "image/png": "[encoded data removed]",
      "text/plain": [
       "<Figure size 1080x432 with 2 Axes>"
      ]
     },
     "metadata": {
      "needs_background": "light"
     },
     "output_type": "display_data"
    },
    {
     "name": "stdout",
     "output_type": "stream",
     "text": [
      "value iteration for this policy improvement is  7\n"
     ]
    },
    {
     "data": {
      "image/png": "[encoded data removed]",
      "text/plain": [
       "<Figure size 1080x432 with 2 Axes>"
      ]
     },
     "metadata": {
      "needs_background": "light"
     },
     "output_type": "display_data"
    }
   ],
   "source": [
    "policy, V,_ = policy_iteration(env, theta=1e-20, gamma=gamma,render=True)"
   ]
  },
  {
   "cell_type": "code",
   "execution_count": 9,
   "metadata": {},
   "outputs": [
    {
     "name": "stdout",
     "output_type": "stream",
     "text": [
      "[0.59049 0.6561  0.729   0.6561  0.6561  0.      0.81    0.      0.729\n",
      " 0.81    0.9     0.      0.      0.9     1.      0.     ]\n",
      "[[0. 1. 0. 0.]\n",
      " [0. 0. 1. 0.]\n",
      " [0. 1. 0. 0.]\n",
      " [1. 0. 0. 0.]\n",
      " [0. 1. 0. 0.]\n",
      " [1. 0. 0. 0.]\n",
      " [0. 1. 0. 0.]\n",
      " [1. 0. 0. 0.]\n",
      " [0. 0. 1. 0.]\n",
      " [0. 1. 0. 0.]\n",
      " [0. 1. 0. 0.]\n",
      " [1. 0. 0. 0.]\n",
      " [1. 0. 0. 0.]\n",
      " [0. 0. 1. 0.]\n",
      " [0. 0. 1. 0.]\n",
      " [1. 0. 0. 0.]]\n"
     ]
    }
   ],
   "source": [
    "print(V)\n",
    "print(policy)"
   ]
  },
  {
   "cell_type": "code",
   "execution_count": 10,
   "metadata": {},
   "outputs": [
    {
     "data": {
      "text/plain": [
       "16"
      ]
     },
     "execution_count": 10,
     "metadata": {},
     "output_type": "execute_result"
    }
   ],
   "source": [
    "policy1 = extract_policy(V,gamma=gamma)\n",
    "len(policy1)"
   ]
  },
  {
   "cell_type": "code",
   "execution_count": 11,
   "metadata": {},
   "outputs": [
    {
     "data": {
      "text/plain": [
       "array([1., 2., 1., 0., 1., 0., 1., 0., 2., 1., 1., 0., 0., 2., 2., 0.])"
      ]
     },
     "execution_count": 11,
     "metadata": {},
     "output_type": "execute_result"
    }
   ],
   "source": [
    "policy1"
   ]
  },
  {
   "cell_type": "code",
   "execution_count": 12,
   "metadata": {},
   "outputs": [
    {
     "name": "stdout",
     "output_type": "stream",
     "text": [
      "[[1. 2. 1. 0.]\n",
      " [1. 0. 1. 0.]\n",
      " [2. 1. 1. 0.]\n",
      " [0. 2. 2. 0.]]\n",
      "[['D' 'R' 'D' 'L']\n",
      " ['D' 'L' 'D' 'L']\n",
      " ['R' 'D' 'D' 'L']\n",
      " ['L' 'R' 'R' 'L']]\n"
     ]
    }
   ],
   "source": [
    "ps=[]\n",
    "pscha=[]\n",
    "for elem in policy1:\n",
    "    ps.append(elem)\n",
    "    if elem==1.0:\n",
    "        pscha.append('D')\n",
    "    elif elem==2.0:\n",
    "        pscha.append('R')\n",
    "    elif elem==0.0:\n",
    "        pscha.append('L')\n",
    "    else:\n",
    "        pscha.append('U')\n",
    "\n",
    "reshaped_policy=np.reshape(pscha,(4,4))\n",
    "print(np.reshape(ps,(4,4)))\n",
    "print(reshaped_policy)"
   ]
  },
  {
   "cell_type": "code",
   "execution_count": 13,
   "metadata": {},
   "outputs": [],
   "source": [
    "data=np.ones([4,4])*20\n",
    "data[0,0]=10\n",
    "data[1,1]=7\n",
    "data[1,3]=7\n",
    "data[3,0]=7\n",
    "data[3,3]=0"
   ]
  },
  {
   "cell_type": "code",
   "execution_count": 14,
   "metadata": {},
   "outputs": [],
   "source": [
    "# create discrete colormap\n",
    "cmap = colors.ListedColormap(['green', 'red','orange','blue'])\n",
    "bounds = [0,5,10,15,20]\n",
    "norm = colors.BoundaryNorm(bounds, cmap.N)"
   ]
  },
  {
   "cell_type": "code",
   "execution_count": 15,
   "metadata": {},
   "outputs": [
    {
     "data": {
      "image/png": "[encoded data removed]",
      "text/plain": [
       "<Figure size 432x432 with 1 Axes>"
      ]
     },
     "metadata": {
      "needs_background": "light"
     },
     "output_type": "display_data"
    }
   ],
   "source": [
    "fig, ax = plt.subplots(figsize=(6,6))\n",
    "ax.imshow(data, cmap=cmap)\n",
    "\n",
    "# draw gridlines\n",
    "ax.set_xticks(np.arange(-.5, 4.5, 1));\n",
    "ax.set_yticks(np.arange(-.5, 4.5, 1));\n",
    "ax.grid(True)\n",
    "ax.set_xticklabels([])\n",
    "ax.set_yticklabels([])\n",
    "\n",
    "for iy in range(4):\n",
    "    for ix in range(4):\n",
    "    #print(x)\n",
    "        if iy==1 and ix==1:\n",
    "            continue\n",
    "        if iy==1 and ix==3:\n",
    "            continue\n",
    "        if iy==3 and ix==0:\n",
    "            continue\n",
    "        if iy==3 and ix==3:\n",
    "            continue\n",
    "        if reshaped_policy[iy,ix]=='D':\n",
    "            #ax.text(x[1], x[0], policy[x], fontsize=25,      color='blue')\n",
    "            ax.annotate('', xy=(ix, iy+0.25), xytext=(ix, iy-0.25),\n",
    "                arrowprops=dict(facecolor='yellow', shrink=0.05))\n",
    "        elif reshaped_policy[iy,ix]=='L':\n",
    "            #ax.text(x[1], x[0], policy[x], fontsize=25,      color='green')\n",
    "            ax.annotate('', xy=(ix-0.25, iy), xytext=(ix+0.25, iy),\n",
    "                arrowprops=dict(facecolor='yellow', shrink=0.05))\n",
    "        elif reshaped_policy[iy,ix]=='U':  \n",
    "            #ax.text(x[1], x[0], policy[x], fontsize=25,      color='blueviolet')\n",
    "            ax.annotate('', xy=(ix, iy-0.25), xytext=(ix, iy+0.25),\n",
    "                arrowprops=dict(facecolor='yellow', shrink=0.05))\n",
    "        else:\n",
    "            ax.annotate('', xy=(ix+0.25, iy), xytext=(ix-0.25, iy),\n",
    "                arrowprops=dict(facecolor='yellow', shrink=0.05))\n",
    "            #ax.text(x[1], x[0], policy[x], fontsize=25,      color='k')\n",
    "\n",
    "\n",
    "            #print(reshaped_policy[iy,ix])"
   ]
  },
  {
   "cell_type": "code",
   "execution_count": 16,
   "metadata": {},
   "outputs": [
    {
     "name": "stdout",
     "output_type": "stream",
     "text": [
      "Policy Probability Distribution:\n",
      "[[0. 1. 0. 0.]\n",
      " [0. 0. 1. 0.]\n",
      " [0. 1. 0. 0.]\n",
      " [1. 0. 0. 0.]\n",
      " [0. 1. 0. 0.]\n",
      " [1. 0. 0. 0.]\n",
      " [0. 1. 0. 0.]\n",
      " [1. 0. 0. 0.]\n",
      " [0. 0. 1. 0.]\n",
      " [0. 1. 0. 0.]\n",
      " [0. 1. 0. 0.]\n",
      " [1. 0. 0. 0.]\n",
      " [1. 0. 0. 0.]\n",
      " [0. 0. 1. 0.]\n",
      " [0. 0. 1. 0.]\n",
      " [1. 0. 0. 0.]]\n",
      "\n",
      "Reshaped Grid Policy (0=left, 1=down, 2=right, 3=up):\n",
      "[[1 2 1 0]\n",
      " [1 0 1 0]\n",
      " [2 1 1 0]\n",
      " [0 2 2 0]]\n",
      "\n",
      "Value Function:\n",
      "[0.59049 0.6561  0.729   0.6561  0.6561  0.      0.81    0.      0.729\n",
      " 0.81    0.9     0.      0.      0.9     1.      0.     ]\n",
      "\n",
      "Reshaped Grid Value Function:\n",
      "[[0.59049 0.6561  0.729   0.6561 ]\n",
      " [0.6561  0.      0.81    0.     ]\n",
      " [0.729   0.81    0.9     0.     ]\n",
      " [0.      0.9     1.      0.     ]]\n",
      "\n"
     ]
    }
   ],
   "source": [
    "print(\"Policy Probability Distribution:\")\n",
    "print(policy)\n",
    "print(\"\")\n",
    "\n",
    "print(\"Reshaped Grid Policy (0=left, 1=down, 2=right, 3=up):\")\n",
    "print(np.reshape(np.argmax(policy, axis=1), [4,4]))\n",
    "print(\"\")\n",
    "\n",
    "print(\"Value Function:\")\n",
    "print(V)\n",
    "print(\"\")\n",
    "\n",
    "print(\"Reshaped Grid Value Function:\")\n",
    "print(V.reshape([4,4]))\n",
    "print(\"\")"
   ]
  },
  {
   "cell_type": "code",
   "execution_count": 17,
   "metadata": {},
   "outputs": [
    {
     "name": "stdout",
     "output_type": "stream",
     "text": [
      "\n",
      "\u001b[41mS\u001b[0mFFF\n",
      "FHFH\n",
      "FFFH\n",
      "HFFG\n",
      "(16,)\n"
     ]
    }
   ],
   "source": [
    "env.render()\n",
    "scores = evaluate_policy(env, policy, gamma = gamma)\n",
    "print(scores.shape)"
   ]
  },
  {
   "cell_type": "code",
   "execution_count": 18,
   "metadata": {},
   "outputs": [
    {
     "name": "stdout",
     "output_type": "stream",
     "text": [
      "Average scores =  0.5272993750000001\n"
     ]
    }
   ],
   "source": [
    "print('Average scores = ', np.mean(scores))"
   ]
  },
  {
   "cell_type": "code",
   "execution_count": 19,
   "metadata": {},
   "outputs": [],
   "source": [
    "s=[]\n",
    "for i in range(100):\n",
    "    _,_,t=policy_iteration(env, gamma = gamma)\n",
    "    s.append(t)"
   ]
  },
  {
   "cell_type": "code",
   "execution_count": 20,
   "metadata": {},
   "outputs": [
    {
     "name": "stdout",
     "output_type": "stream",
     "text": [
      "mu is 0.00717, sigma is 0.00215\n",
      "Histogram of steps: μ=0.00717, sigma=0.00215\n"
     ]
    },
    {
     "data": {
      "image/png": "[encoded data removed]",
      "text/plain": [
       "<Figure size 432x288 with 1 Axes>"
      ]
     },
     "metadata": {
      "needs_background": "light"
     },
     "output_type": "display_data"
    }
   ],
   "source": [
    "from scipy.stats import norm\n",
    "s=np.array(s)\n",
    "(mu, sigma) = norm.fit(s)\n",
    "print(\"mu is {:.5f}, sigma is {:.5f}\".format(mu, sigma))\n",
    "n, bins, patches = plt.hist(s, 20, density=1, facecolor='green', alpha=0.75)\n",
    "plt.xlabel('Steps')\n",
    "plt.ylabel('Probability')\n",
    "print(\"Histogram of steps: μ={:.5f}, sigma={:.5f}\".format(mu, sigma))\n",
    "plt.grid(True)\n",
    "plt.show()"
   ]
  },
  {
   "cell_type": "code",
   "execution_count": null,
   "metadata": {},
   "outputs": [],
   "source": []
  }
 ],
 "metadata": {
  "kernelspec": {
   "display_name": "Python 3",
   "language": "python",
   "name": "python3"
  },
  "language_info": {
   "codemirror_mode": {
    "name": "ipython",
    "version": 3
   },
   "file_extension": ".py",
   "mimetype": "text/x-python",
   "name": "python",
   "nbconvert_exporter": "python",
   "pygments_lexer": "ipython3",
   "version": "3.8.8"
  }
 },
 "nbformat": 4,
 "nbformat_minor": 2
}
