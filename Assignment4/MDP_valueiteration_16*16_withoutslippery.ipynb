{
 "cells": [
  {
   "cell_type": "code",
   "execution_count": 1,
   "metadata": {},
   "outputs": [],
   "source": [
    "import gym.envs.toy_text.frozen_lake as frozen_lake # I guess `toy_text` is a separate package?\n",
    "from gym import make\n",
    "import gym\n",
    "from gym.envs.registration import register, registry\n",
    "import numpy as np\n",
    "import pandas as pd\n",
    "import seaborn\n",
    "import matplotlib.pyplot as plt\n",
    "import myenv\n",
    "from pprint import pprint\n",
    "import warnings\n",
    "import xlrd\n",
    "import time\n",
    "import matplotlib.mlab as mlab\n",
    "from matplotlib import colors"
   ]
  },
  {
   "cell_type": "code",
   "execution_count": 2,
   "metadata": {},
   "outputs": [],
   "source": [
    "# These are the non-random maps\n",
    "MAPS = {\n",
    "    \"4x4\": [\n",
    "        \"SFFF\",\n",
    "        \"FHFH\",\n",
    "        \"FFFH\",\n",
    "        \"HFFG\"\n",
    "    ],\n",
    "    \"8x8\": [\n",
    "        \"SFFFFFFF\",\n",
    "        \"FFFFFFFF\",\n",
    "        \"FFFHFFFF\",\n",
    "        \"FFFFFHFF\",\n",
    "        \"FFFHFFFF\",\n",
    "        \"FHHFFFHF\",\n",
    "        \"FHFFHFHF\",\n",
    "        \"FFFHFFFG\"\n",
    "    ],\n",
    "    \"16x16\" : [\n",
    "        'SFFFFFHHFFFFFFFF',\n",
    "        'FFFFHFFHFFFFFFHF',\n",
    "        'FHFFFFFHFHFHFFFF',\n",
    "        'HFFHFFFFFFFFFHFH',\n",
    "        'FHFFFFHHFFFHHFHF',\n",
    "        'FHFFHFHFFFFHFFFF',\n",
    "        'FFHFFFFHFFFHHHHF',\n",
    "        'HFHFFFFFFFFFFFFH',\n",
    "        'FFFFFFFFFHFFFFHF',\n",
    "        'FFFFFFHHFHFFFFFH',\n",
    "        'FFHFFFFFFHFFFHFF',\n",
    "        'FFFHHFHFFFFFHFFF',\n",
    "        'FFFFFHFHFFFFHFFF',\n",
    "        'HHHHHFFFHFFHFFFF',\n",
    "        'FHFFHFFFFFFFFFFF',\n",
    "        'FFHFHHFFHFFFFFFG'\n",
    "    ]\n",
    "}"
   ]
  },
  {
   "cell_type": "code",
   "execution_count": 3,
   "metadata": {},
   "outputs": [],
   "source": [
    "def sixteen_by_sixteen_map():\n",
    "    return frozen_lake.generate_random_map(size=16)"
   ]
  },
  {
   "cell_type": "code",
   "execution_count": 4,
   "metadata": {},
   "outputs": [],
   "source": [
    "# ##\n",
    "# Utility Functions\n",
    "# ##\n",
    "\n",
    "def getStateReward(env):\n",
    "    n_states = env.observation_space.n\n",
    "    Rs = np.empty(n_states)\n",
    "    Rs.fill(np.nan)\n",
    "    p = env.P\n",
    "    for state in p:\n",
    "        for action_commanded in p[state]:\n",
    "            for action_possible in p[state][action_commanded]:\n",
    "                Rs[action_possible[1]] = action_possible[2]\n",
    "    \n",
    "    return Rs "
   ]
  },
  {
   "cell_type": "code",
   "execution_count": 5,
   "metadata": {},
   "outputs": [],
   "source": [
    "def getReward(env):\n",
    "    n_states, n_actions = env.observation_space.n, env.action_space.n\n",
    "    \n",
    "    R = np.zeros((n_states, n_actions))\n",
    "    for s in range(n_states):\n",
    "        for a, moves in env.P[s].items():\n",
    "            for possible_move in moves:\n",
    "                prob, _, r, _ = possible_move\n",
    "                R[s, a] += r * prob\n",
    "    \n",
    "    return R\n",
    "\n",
    "def getProb(env):\n",
    "    n_states, n_actions = env.observation_space.n, env.action_space.n\n",
    "    \n",
    "    P = np.zeros((n_states, n_actions, n_states))\n",
    "    for s in range(n_states):\n",
    "        for a in range(n_actions):\n",
    "            for moves in env.P[s][a]:\n",
    "                prob, next_s, _, _ = moves\n",
    "                P[s, a, next_s] += prob\n",
    "    \n",
    "    return P\n",
    "\n",
    "def print_value(V, width=4, height=4):\n",
    "    return np.around(np.resize(V, (width, height)), 4)\n",
    "\n",
    "# https://gist.github.com/braingineer/d801735dac07ff3ac4d746e1f218ab75\n",
    "# matprint.py Pretty print a matrix in Python 3 with numpy\n",
    "def matprint(mat, fmt=\"g\"):\n",
    "    if mat[0][0] in [\"←\", \"↓\", \"→\", \"↑\"]:\n",
    "        fmt = 's'# fmt='s' for arrows\n",
    "    if mat[0][0] in [b'S', b'F', b'H', b'G']:\n",
    "        fmt = 's'\n",
    "        mat = mat.astype('<U8')\n",
    "    col_maxes = [max([len((\"{:\"+fmt+\"}\").format(x)) for x in col]) for col in mat.T]\n",
    "    for x in mat:\n",
    "        for i, y in enumerate(x):\n",
    "            print((\"{:\"+str(col_maxes[i])+fmt+\"}\").format(y), end=\"  \")\n",
    "        print(\"\")"
   ]
  },
  {
   "cell_type": "code",
   "execution_count": 6,
   "metadata": {},
   "outputs": [],
   "source": [
    "# let's plot the policy matrix (as in Part 1). according to\n",
    "# https://github.com/openai/gym/blob/master/gym/envs/toy_text/frozen_lake.py\n",
    "# LEFT = 0   DOWN = 1   RIGHT = 2  UP = 3\n",
    "def print_policy(V, width=4, height=4):\n",
    "    table = {0: \"←\", 1: \"↓\", 2: \"→\", 3: \"↑\"}\n",
    "    policy = np.resize(V, (width, height))\n",
    "    \n",
    "    # transform using the dictionary\n",
    "    return np.vectorize(table.get)(policy)"
   ]
  },
  {
   "cell_type": "code",
   "execution_count": 7,
   "metadata": {},
   "outputs": [],
   "source": [
    "# ##\n",
    "# Generate a Customized Frozen Lake\n",
    "# ##\n",
    "\n",
    "def getEnv(env_id='default', rH=0, rG=1, rF=0, desc=None, map_name='4x4', is_slippery=True, render_initial=True):\n",
    "\n",
    "    if env_id in gym.envs.registry.env_specs:\n",
    "        del gym.envs.registry.env_specs[env_id]\n",
    "\n",
    "    register(\n",
    "        id=env_id, # name given to this new environment\n",
    "        entry_point='myenv:CustomizedFrozenLake', # env entry point\n",
    "        kwargs={'rH': rH, 'rG': rG, 'rF': rF, \n",
    "                'desc': desc,\n",
    "                'map_name': map_name, \n",
    "                'is_slippery': is_slippery} # argument passed to the env\n",
    "    )\n",
    "\n",
    "    this_env = make(env_id)\n",
    "\n",
    "    if render_initial:\n",
    "        print('--Board--')\n",
    "        this_env.render()\n",
    "        print('\\n--Actions for Position to the Left of the Goal--')\n",
    "        pprint(this_env.P[this_env.nS - 2])\n",
    "    \n",
    "    return this_env"
   ]
  },
  {
   "cell_type": "code",
   "execution_count": 8,
   "metadata": {},
   "outputs": [],
   "source": [
    "#Default settings, uncomment to just use these\n",
    "settings = {'rH': [-1],\n",
    " 'rG': [1],\n",
    " 'rF': [-0.2],\n",
    " 'size': [16],\n",
    " 'p': [0.8],\n",
    " 'is_slippery': [False],\n",
    " 'render_initial': [True],\n",
    " 'epsilon': [1e-08],\n",
    " 'gamma': [0.8],\n",
    " 'max_iter': [10000],\n",
    " 'qepsilon': [0.1],\n",
    " 'lr': [0.8],\n",
    " 'qgamma': [0.95],\n",
    " 'episodes': [10000],\n",
    " 'initial': [1],\n",
    " 'decay': [True],\n",
    " 'report': [True],\n",
    " 'display_print': [True]}"
   ]
  },
  {
   "cell_type": "code",
   "execution_count": 9,
   "metadata": {},
   "outputs": [
    {
     "name": "stdout",
     "output_type": "stream",
     "text": [
      "1\n"
     ]
    }
   ],
   "source": [
    "# Determine the number of runs\n",
    "n_settings = len(settings['rH'])\n",
    "print(n_settings)"
   ]
  },
  {
   "cell_type": "code",
   "execution_count": 10,
   "metadata": {},
   "outputs": [
    {
     "name": "stdout",
     "output_type": "stream",
     "text": [
      "--Board--\n",
      "\n",
      "\u001b[41mS\u001b[0mFFFFFHHFFFFFFFF\n",
      "FFFFHFFHFFFFFFHF\n",
      "FHFFFFFHFHFHFFFF\n",
      "HFFHFFFFFFFFFHFH\n",
      "FHFFFFHHFFFHHFHF\n",
      "FHFFHFHFFFFHFFFF\n",
      "FFHFFFFHFFFHHHHF\n",
      "HFHFFFFFFFFFFFFH\n",
      "FFFFFFFFFHFFFFHF\n",
      "FFFFFFHHFHFFFFFH\n",
      "FFHFFFFFFHFFFHFF\n",
      "FFFHHFHFFFFFHFFF\n",
      "FFFFFHFHFFFFHFFF\n",
      "HHHHHFFFHFFHFFFF\n",
      "FHFFHFFFFFFFFFFF\n",
      "FFHFHHFFHFFFFFFG\n",
      "\n",
      "--Actions for Position to the Left of the Goal--\n",
      "{0: [(1.0, 253, -0.2, False)],\n",
      " 1: [(1.0, 254, -0.2, False)],\n",
      " 2: [(1.0, 255, 1, True)],\n",
      " 3: [(1.0, 238, -0.2, False)]}\n",
      "\n",
      "--Reward Values at Each State--\n",
      "-0.2  -0.2  -0.2  -0.2  -0.2  -0.2    -1    -1  -0.2  -0.2  -0.2  -0.2  -0.2  -0.2  -0.2  -0.2  \n",
      "-0.2  -0.2  -0.2  -0.2    -1  -0.2  -0.2    -1  -0.2  -0.2  -0.2  -0.2  -0.2  -0.2    -1  -0.2  \n",
      "-0.2    -1  -0.2  -0.2  -0.2  -0.2  -0.2    -1  -0.2    -1  -0.2    -1  -0.2  -0.2  -0.2  -0.2  \n",
      "  -1  -0.2  -0.2    -1  -0.2  -0.2  -0.2  -0.2  -0.2  -0.2  -0.2  -0.2  -0.2    -1  -0.2    -1  \n",
      "-0.2    -1  -0.2  -0.2  -0.2  -0.2    -1    -1  -0.2  -0.2  -0.2    -1    -1  -0.2    -1  -0.2  \n",
      "-0.2    -1  -0.2  -0.2    -1  -0.2    -1  -0.2  -0.2  -0.2  -0.2    -1  -0.2  -0.2  -0.2  -0.2  \n",
      "-0.2  -0.2    -1  -0.2  -0.2  -0.2  -0.2    -1  -0.2  -0.2  -0.2    -1    -1    -1    -1  -0.2  \n",
      "  -1  -0.2    -1  -0.2  -0.2  -0.2  -0.2  -0.2  -0.2  -0.2  -0.2  -0.2  -0.2  -0.2  -0.2    -1  \n",
      "-0.2  -0.2  -0.2  -0.2  -0.2  -0.2  -0.2  -0.2  -0.2    -1  -0.2  -0.2  -0.2  -0.2    -1  -0.2  \n",
      "-0.2  -0.2  -0.2  -0.2  -0.2  -0.2    -1    -1  -0.2    -1  -0.2  -0.2  -0.2  -0.2  -0.2    -1  \n",
      "-0.2  -0.2    -1  -0.2  -0.2  -0.2  -0.2  -0.2  -0.2    -1  -0.2  -0.2  -0.2    -1  -0.2  -0.2  \n",
      "-0.2  -0.2  -0.2    -1    -1  -0.2    -1  -0.2  -0.2  -0.2  -0.2  -0.2    -1  -0.2  -0.2  -0.2  \n",
      "-0.2  -0.2  -0.2  -0.2  -0.2    -1  -0.2    -1  -0.2  -0.2  -0.2  -0.2    -1  -0.2  -0.2  -0.2  \n",
      "  -1    -1    -1    -1    -1  -0.2  -0.2  -0.2    -1  -0.2  -0.2    -1  -0.2  -0.2  -0.2  -0.2  \n",
      "-0.2    -1  -0.2  -0.2    -1  -0.2  -0.2  -0.2  -0.2  -0.2  -0.2  -0.2  -0.2  -0.2  -0.2  -0.2  \n",
      "-0.2  -0.2    -1  -0.2    -1    -1  -0.2  -0.2    -1  -0.2  -0.2  -0.2  -0.2  -0.2  -0.2     1  \n"
     ]
    }
   ],
   "source": [
    "n=0\n",
    "# Load settings\n",
    "rH = settings['rH'][n] # -1 #-5 # reward for H(ole)\n",
    "rG = settings['rG'][n] #1 # 10 # reward for G(oal)\n",
    "rF = settings['rF'][n] #-0.2# reward includes S(tart) and F(rozen)\n",
    "size = settings['size'][n] #4 # height and width of square gridworld, [4, 8, 16] are included in cs7641assn4.py \n",
    "p = settings['p'][n] #0.8 # if generating a random map probability that a grid will be F(rozen)\n",
    "map_name = 'x'.join([str(size)]*2) # None, if you want a random map\n",
    "desc = MAPS[map_name] # None, if you want a random map\n",
    "is_slippery = settings['is_slippery'][n] #False\n",
    "render_initial = settings['render_initial'][n] # True\n",
    "\n",
    "epsilon = settings['epsilon'][n] #1e-8 # convergence threshold for policy/value iteration\n",
    "gamma = settings['gamma'][n] #0.8 # discount parameter for past policy/value iterations\n",
    "max_iter = settings['max_iter'][n] #10000 # maximum iterations for slowly converging policy/value iteration \n",
    "\n",
    "# Qlearning(env, rH=0, rG=1, rF=0, qepsilon=0.1, lr=0.8, gamma=0.95, episodes=10000)\n",
    "qepsilon = settings['qepsilon'][n] #0.1 # epsilon value for the Q-learning epsilon greedy strategy\n",
    "lr = settings['lr'][n] #0.8 # Q-learning rate\n",
    "qgamma = settings['qgamma'][n] #0.95 # Q-Learning discount factor\n",
    "episodes = settings['episodes'][n] #10000 # number of Q-learning episodes\n",
    "initial = settings['initial'][n] #0 # value to initialize the Q grid\n",
    "decay = settings['decay'][n] #True\n",
    "\n",
    "# Printing options\n",
    "report = settings['report'][n] #True # For cs7641assn4.py policy and value iteration functions\n",
    "display_print = settings['display_print'][n] #True # For this script\n",
    "\n",
    "# Create Environment\n",
    "env = getEnv(env_id='hw4-FrozenLake-v0', rH=rH, rG=rG, rF=rF, \n",
    "                desc=desc,  \n",
    "                is_slippery=is_slippery, render_initial=True)\n",
    "\n",
    "# Store a representation of the map\n",
    "env_desc = env.desc.astype('<U8')\n",
    "\n",
    "# Store a representation of the state rewards\n",
    "env_rs = getStateReward(env)\n",
    "\n",
    "if display_print:\n",
    "    # Display reward at each state\n",
    "    print('\\n--Reward Values at Each State--')\n",
    "    matprint(print_value(env_rs, width=size, height=size))"
   ]
  },
  {
   "cell_type": "code",
   "execution_count": 11,
   "metadata": {},
   "outputs": [],
   "source": [
    "def value_iteration(env, theta=0.0001, gamma=1.0, render=False):\n",
    "    \"\"\"\n",
    "    Value Iteration Algorithm.\n",
    "    \n",
    "    Args:\n",
    "        env: OpenAI env. env.P represents the transition probabilities of the environment.\n",
    "            env.P[s][a] is a list of transition tuples (prob, next_state, reward, done).\n",
    "            env.nS is a number of states in the environment. \n",
    "            env.nA is a number of actions in the environment.\n",
    "        theta: We stop evaluation once our value function change is less than theta for all states.\n",
    "        discount_factor: Gamma discount factor.\n",
    "        \n",
    "    Returns:\n",
    "        A tuple (policy, V) of the optimal policy and the optimal value function.\n",
    "    \"\"\"\n",
    "    \n",
    "    def one_step_lookahead(state, V):\n",
    "        \"\"\"\n",
    "        Helper function to calculate the value for all action in a given state.\n",
    "        \n",
    "        Args:\n",
    "            state: The state to consider (int)\n",
    "            V: The value to use as an estimator, Vector of length env.nS\n",
    "        \n",
    "        Returns:\n",
    "            A vector of length env.nA containing the expected value of each action.\n",
    "        \"\"\"\n",
    "        #q_sa = [sum([p*(r + prev_v[s_]) for p, s_, r, _ in env.P[s][a]]) for a in range(env.nA)] \n",
    "        A = np.zeros(env.nA)\n",
    "        for a in range(env.nA):\n",
    "            for prob, next_state, reward, done in env.P[state][a]:\n",
    "                A[a] += 1*prob * (reward + gamma * V[next_state])\n",
    "        return A\n",
    "    \n",
    "    err=[]\n",
    "    k=[]\n",
    "    t=[]\n",
    "    V = np.zeros(env.nS)\n",
    "    i = 0\n",
    "    totaltime=0\n",
    "    while True:\n",
    "        # Stopping condition\n",
    "        delta = 0\n",
    "        start=time.time()\n",
    "        # Update each state...\n",
    "        for s in range(env.nS):\n",
    "            # Do a one-step lookahead to find the best action\n",
    "            A = one_step_lookahead(s, V)\n",
    "            best_action_value = np.max(A)\n",
    "            # Calculate delta across all states seen so far\n",
    "            delta = max(delta, np.abs(best_action_value - V[s]))\n",
    "            # Update the value function. Ref: Sutton book eq. 4.10. \n",
    "            V[s] = best_action_value \n",
    "        end=time.time()    \n",
    "        ti=end-start\n",
    "        t.append(ti)\n",
    "        #print(t)\n",
    "        err.append(delta)\n",
    "        k.append(i)\n",
    "        i=i+1\n",
    "        totaltime=np.sum(t)\n",
    "        # Check if we can stop \n",
    "        if delta < theta:\n",
    "            print ('Value-iteration converged at iteration# %d.' %(i))\n",
    "            if render==True:\n",
    "                err=np.array(err)\n",
    "                k=np.array(k)\n",
    "                t=np.array(t)\n",
    "                \n",
    "                plt.figure(figsize=[15,6])\n",
    "                plt.subplot(1,2,1)\n",
    "                line1, = plt.plot(err,color='r',label='error')\n",
    "                plt.ylabel('error')\n",
    "                plt.xlabel('iteration')\n",
    "                plt.subplot(1,2,2)\n",
    "                line2,=plt.plot(t,color='g',label='time')\n",
    "                #plt.legend(handler_map={line1: HandlerLine2D(numpoints=2)})\n",
    "                plt.ylabel('time')\n",
    "                plt.xlabel('iteration')\n",
    "                plt.show()\n",
    "            break\n",
    "    \n",
    "    # Create a deterministic policy using the optimal value function\n",
    "    policy = np.zeros([env.nS, env.nA])\n",
    "    for s in range(env.nS):\n",
    "        # One step lookahead to find the best action for this state\n",
    "        A = one_step_lookahead(s, V)\n",
    "        best_action = np.argmax(A)\n",
    "        # Always take the best action\n",
    "        policy[s, best_action] = 1.0\n",
    "    \n",
    "    return policy, V, totaltime"
   ]
  },
  {
   "cell_type": "code",
   "execution_count": 12,
   "metadata": {},
   "outputs": [],
   "source": [
    "def extract_policy(v, gamma = 1.0):\n",
    "    \"\"\" Extract the policy given a value-function \"\"\"\n",
    "    policy = np.zeros(env.nS)\n",
    "    for s in range(env.nS):\n",
    "        q_sa = np.zeros(env.action_space.n)\n",
    "        for a in range(env.action_space.n):\n",
    "            for next_sr in env.P[s][a]:\n",
    "                # next_sr is a tuple of (probability, next state, reward, done)\n",
    "                p, s_, r, _ = next_sr\n",
    "                q_sa[a] += (p * (r + gamma * v[s_]))\n",
    "        policy[s] = np.argmax(q_sa)\n",
    "    return policy"
   ]
  },
  {
   "cell_type": "code",
   "execution_count": 13,
   "metadata": {},
   "outputs": [
    {
     "name": "stdout",
     "output_type": "stream",
     "text": [
      "Value-iteration converged at iteration# 84.\n"
     ]
    },
    {
     "data": {
      "image/png": "[encoded data removed]",
      "text/plain": [
       "<Figure size 1080x432 with 2 Axes>"
      ]
     },
     "metadata": {
      "needs_background": "light"
     },
     "output_type": "display_data"
    }
   ],
   "source": [
    "policy, v, _ = value_iteration(env,theta=epsilon, gamma=gamma, render=True)"
   ]
  },
  {
   "cell_type": "code",
   "execution_count": 14,
   "metadata": {},
   "outputs": [
    {
     "data": {
      "text/plain": [
       "256"
      ]
     },
     "execution_count": 14,
     "metadata": {},
     "output_type": "execute_result"
    }
   ],
   "source": [
    "policy1 = extract_policy(v,gamma=gamma)\n",
    "len(policy1)"
   ]
  },
  {
   "cell_type": "code",
   "execution_count": 15,
   "metadata": {},
   "outputs": [
    {
     "data": {
      "text/plain": [
       "array([1., 1., 1., 1., 2., 1., 0., 0., 1., 1., 1., 1., 1., 1., 0., 1., 2.,\n",
       "       2., 1., 1., 0., 1., 1., 0., 1., 2., 1., 0., 1., 1., 0., 1., 3., 0.,\n",
       "       1., 2., 1., 1., 1., 0., 1., 0., 1., 0., 1., 0., 0., 0., 0., 2., 1.,\n",
       "       0., 1., 1., 2., 2., 1., 1., 1., 0., 0., 0., 3., 0., 1., 0., 1., 1.,\n",
       "       2., 1., 0., 0., 1., 1., 1., 0., 0., 1., 0., 1., 1., 0., 2., 1., 0.,\n",
       "       1., 0., 2., 1., 1., 1., 0., 2., 0., 0., 0., 2., 1., 0., 1., 1., 1.,\n",
       "       1., 0., 1., 1., 1., 0., 0., 0., 0., 2., 0., 1., 0., 1., 1., 1., 1.,\n",
       "       1., 1., 2., 1., 1., 1., 1., 0., 0., 1., 1., 1., 1., 1., 1., 2., 2.,\n",
       "       1., 0., 1., 1., 1., 1., 0., 2., 2., 2., 2., 1., 1., 1., 0., 0., 1.,\n",
       "       0., 1., 2., 2., 2., 1., 0., 2., 3., 0., 2., 2., 2., 2., 1., 1., 0.,\n",
       "       1., 1., 3., 0., 1., 1., 2., 3., 0., 0., 0., 3., 0., 2., 1., 1., 1.,\n",
       "       1., 0., 1., 1., 1., 2., 3., 0., 0., 0., 0., 1., 0., 2., 1., 1., 0.,\n",
       "       0., 1., 1., 1., 0., 0., 0., 0., 0., 1., 1., 1., 0., 1., 1., 0., 1.,\n",
       "       1., 1., 1., 0., 0., 2., 0., 0., 2., 2., 2., 2., 1., 1., 1., 1., 1.,\n",
       "       1., 1., 0., 0., 0., 1., 0., 0., 2., 3., 0., 2., 2., 2., 2., 2., 2.,\n",
       "       0.])"
      ]
     },
     "execution_count": 15,
     "metadata": {},
     "output_type": "execute_result"
    }
   ],
   "source": [
    "policy1"
   ]
  },
  {
   "cell_type": "code",
   "execution_count": 16,
   "metadata": {},
   "outputs": [
    {
     "name": "stdout",
     "output_type": "stream",
     "text": [
      "[['D' 'D' 'D' 'D' 'R' 'D' 'L' 'L' 'D' 'D' 'D' 'D' 'D' 'D' 'L' 'D']\n",
      " ['R' 'R' 'D' 'D' 'L' 'D' 'D' 'L' 'D' 'R' 'D' 'L' 'D' 'D' 'L' 'D']\n",
      " ['U' 'L' 'D' 'R' 'D' 'D' 'D' 'L' 'D' 'L' 'D' 'L' 'D' 'L' 'L' 'L']\n",
      " ['L' 'R' 'D' 'L' 'D' 'D' 'R' 'R' 'D' 'D' 'D' 'L' 'L' 'L' 'U' 'L']\n",
      " ['D' 'L' 'D' 'D' 'R' 'D' 'L' 'L' 'D' 'D' 'D' 'L' 'L' 'D' 'L' 'D']\n",
      " ['D' 'L' 'R' 'D' 'L' 'D' 'L' 'R' 'D' 'D' 'D' 'L' 'R' 'L' 'L' 'L']\n",
      " ['R' 'D' 'L' 'D' 'D' 'D' 'D' 'L' 'D' 'D' 'D' 'L' 'L' 'L' 'L' 'R']\n",
      " ['L' 'D' 'L' 'D' 'D' 'D' 'D' 'D' 'D' 'R' 'D' 'D' 'D' 'D' 'L' 'L']\n",
      " ['D' 'D' 'D' 'D' 'D' 'D' 'R' 'R' 'D' 'L' 'D' 'D' 'D' 'D' 'L' 'R']\n",
      " ['R' 'R' 'R' 'D' 'D' 'D' 'L' 'L' 'D' 'L' 'D' 'R' 'R' 'R' 'D' 'L']\n",
      " ['R' 'U' 'L' 'R' 'R' 'R' 'R' 'D' 'D' 'L' 'D' 'D' 'U' 'L' 'D' 'D']\n",
      " ['R' 'U' 'L' 'L' 'L' 'U' 'L' 'R' 'D' 'D' 'D' 'D' 'L' 'D' 'D' 'D']\n",
      " ['R' 'U' 'L' 'L' 'L' 'L' 'D' 'L' 'R' 'D' 'D' 'L' 'L' 'D' 'D' 'D']\n",
      " ['L' 'L' 'L' 'L' 'L' 'D' 'D' 'D' 'L' 'D' 'D' 'L' 'D' 'D' 'D' 'D']\n",
      " ['L' 'L' 'R' 'L' 'L' 'R' 'R' 'R' 'R' 'D' 'D' 'D' 'D' 'D' 'D' 'D']\n",
      " ['L' 'L' 'L' 'D' 'L' 'L' 'R' 'U' 'L' 'R' 'R' 'R' 'R' 'R' 'R' 'L']]\n"
     ]
    }
   ],
   "source": [
    "ps=[]\n",
    "pscha=[]\n",
    "for elem in policy1:\n",
    "    ps.append(elem)\n",
    "    if elem==1.0:\n",
    "        pscha.append('D')\n",
    "    elif elem==2.0:\n",
    "        pscha.append('R')\n",
    "    elif elem==0.0:\n",
    "        pscha.append('L')\n",
    "    else:\n",
    "        pscha.append('U')\n",
    "\n",
    "reshaped_policy=np.reshape(pscha,(16,16))\n",
    "print(reshaped_policy)\n",
    "#print(tabulate(reshaped_policy,tablefmt='latex'))"
   ]
  },
  {
   "cell_type": "code",
   "execution_count": 17,
   "metadata": {},
   "outputs": [],
   "source": [
    "data=np.ones([16,16])*20\n",
    "data[15,2]=7\n",
    "data[15,4]=7\n",
    "data[15,5]=7\n",
    "data[15,8]=7\n",
    "data[14,1]=7\n",
    "data[14,4]=7\n",
    "data[13,0]=7\n",
    "data[13,1]=7\n",
    "data[13,2]=7\n",
    "data[13,3]=7\n",
    "data[13,4]=7\n",
    "data[13,8]=7\n",
    "data[13,11]=7\n",
    "data[12,5]=7\n",
    "data[12,7]=7\n",
    "data[12,12]=7\n",
    "data[11,3]=7\n",
    "data[11,4]=7\n",
    "data[11,6]=7\n",
    "data[11,12]=7\n",
    "data[10,2]=7\n",
    "data[10,9]=7\n",
    "data[10,14]=7\n",
    "data[9,6]=7\n",
    "data[9,7]=7\n",
    "data[9,9]=7\n",
    "data[9,15]=7\n",
    "data[8,9]=7\n",
    "data[8,14]=7\n",
    "data[7,0]=7\n",
    "data[7,1]=7\n",
    "data[7,15]=7\n",
    "data[6,2]=7\n",
    "data[6,7]=7\n",
    "data[6,11]=7\n",
    "data[6,12]=7\n",
    "data[6,13]=7\n",
    "data[6,14]=7\n",
    "data[5,1]=7\n",
    "data[5,4]=7\n",
    "data[5,6]=7\n",
    "data[5,11]=7\n",
    "data[0,0]=10\n",
    "data[0,6]=7\n",
    "data[0,7]=7\n",
    "data[1,4]=7\n",
    "data[1,7]=7\n",
    "data[2,1]=7\n",
    "data[2,7]=7\n",
    "data[2,9]=7\n",
    "data[2,11]=7\n",
    "data[3,0]=7\n",
    "data[3,3]=7\n",
    "data[3,13]=7\n",
    "data[3,15]=7\n",
    "data[4,1]=7\n",
    "data[4,6]=7\n",
    "data[4,7]=7\n",
    "data[4,11]=7\n",
    "data[4,12]=7\n",
    "data[4,14]=7\n",
    "data[15,15]=0"
   ]
  },
  {
   "cell_type": "code",
   "execution_count": 18,
   "metadata": {},
   "outputs": [],
   "source": [
    "# create discrete colormap\n",
    "cmap = colors.ListedColormap(['green', 'red','orange','blue'])\n",
    "bounds = [0,5,10,15,20]\n",
    "norm = colors.BoundaryNorm(bounds, cmap.N)"
   ]
  },
  {
   "cell_type": "code",
   "execution_count": 19,
   "metadata": {},
   "outputs": [
    {
     "data": {
      "image/png": "[encoded data removed]",
      "text/plain": [
       "<Figure size 864x864 with 1 Axes>"
      ]
     },
     "metadata": {
      "needs_background": "light"
     },
     "output_type": "display_data"
    }
   ],
   "source": [
    "fig, ax = plt.subplots(figsize=(12,12))\n",
    "ax.imshow(data, cmap=cmap)\n",
    "\n",
    "# draw gridlines\n",
    "ax.set_xticks(np.arange(-.5, 16.5, 1));\n",
    "ax.set_yticks(np.arange(-.5, 16.5, 1));\n",
    "ax.grid(True)\n",
    "ax.set_xticklabels([])\n",
    "ax.set_yticklabels([])\n",
    "\n",
    "for iy in range(16):\n",
    "    for ix in range(16):\n",
    "    #print(x)\n",
    "        #if iy==1 and ix==1:\n",
    "        #    continue\n",
    "        #if iy==1 and ix==3:\n",
    "        #    continue\n",
    "        #if iy==3 and ix==0:\n",
    "        #    continue\n",
    "        #if iy==3 and ix==3:\n",
    "        #    continue\n",
    "        if reshaped_policy[iy,ix]=='D':\n",
    "            #ax.text(x[1], x[0], policy[x], fontsize=25,      color='blue')\n",
    "            ax.annotate('', xy=(ix, iy+0.25), xytext=(ix, iy-0.25),\n",
    "                arrowprops=dict(facecolor='yellow', shrink=0.01))\n",
    "        elif reshaped_policy[iy,ix]=='L':\n",
    "            #ax.text(x[1], x[0], policy[x], fontsize=25,      color='green')\n",
    "            ax.annotate('', xy=(ix-0.25, iy), xytext=(ix+0.25, iy),\n",
    "                arrowprops=dict(facecolor='yellow', shrink=0.01))\n",
    "        elif reshaped_policy[iy,ix]=='U':  \n",
    "            #ax.text(x[1], x[0], policy[x], fontsize=25,      color='blueviolet')\n",
    "            ax.annotate('', xy=(ix, iy-0.25), xytext=(ix, iy+0.25),\n",
    "                arrowprops=dict(facecolor='yellow', shrink=0.01))\n",
    "        else:\n",
    "            ax.annotate('', xy=(ix+0.25, iy), xytext=(ix-0.25, iy),\n",
    "                arrowprops=dict(facecolor='yellow', shrink=0.01))\n",
    "            #ax.text(x[1], x[0], policy[x], fontsize=25,      color='k')\n",
    "\n",
    "\n",
    "            #print(reshaped_policy[iy,ix])\n"
   ]
  },
  {
   "cell_type": "code",
   "execution_count": 20,
   "metadata": {},
   "outputs": [
    {
     "data": {
      "text/plain": [
       "Text(0.5, 1.0, 'Value at each location')"
      ]
     },
     "execution_count": 20,
     "metadata": {},
     "output_type": "execute_result"
    },
    {
     "data": {
      "image/png": "[encoded data removed]",
      "text/plain": [
       "<Figure size 864x864 with 2 Axes>"
      ]
     },
     "metadata": {
      "needs_background": "light"
     },
     "output_type": "display_data"
    }
   ],
   "source": [
    "\n",
    "x = v.reshape(16, 16)\n",
    "f, ax = plt.subplots(figsize=(12, 12))\n",
    "cmap=seaborn.diverging_palette(0, 200, s=50, l=77,\n",
    "                                  n=90, center=\"dark\", as_cmap=True)\n",
    "#cmap = seaborn.diverging_palette(220, 20, as_cmap=True)\n",
    "ax = seaborn.heatmap(x, cmap='cool',square=True, xticklabels=16+1, yticklabels=16+1,\n",
    "       linewidths=.5, cbar_kws={\"shrink\": .5}, ax=ax)\n",
    "plt.title('Value at each location')"
   ]
  },
  {
   "cell_type": "code",
   "execution_count": 21,
   "metadata": {},
   "outputs": [
    {
     "name": "stdout",
     "output_type": "stream",
     "text": [
      "Value-iteration converged at iteration# 43.\n",
      "Value-iteration converged at iteration# 43.\n",
      "Value-iteration converged at iteration# 43.\n",
      "Value-iteration converged at iteration# 43.\n",
      "Value-iteration converged at iteration# 43.\n",
      "Value-iteration converged at iteration# 43.\n",
      "Value-iteration converged at iteration# 43.\n",
      "Value-iteration converged at iteration# 43.\n",
      "Value-iteration converged at iteration# 43.\n",
      "Value-iteration converged at iteration# 43.\n",
      "Value-iteration converged at iteration# 43.\n",
      "Value-iteration converged at iteration# 43.\n",
      "Value-iteration converged at iteration# 43.\n",
      "Value-iteration converged at iteration# 43.\n",
      "Value-iteration converged at iteration# 43.\n",
      "Value-iteration converged at iteration# 43.\n",
      "Value-iteration converged at iteration# 43.\n",
      "Value-iteration converged at iteration# 43.\n",
      "Value-iteration converged at iteration# 43.\n",
      "Value-iteration converged at iteration# 43.\n",
      "Value-iteration converged at iteration# 43.\n",
      "Value-iteration converged at iteration# 43.\n",
      "Value-iteration converged at iteration# 43.\n",
      "Value-iteration converged at iteration# 43.\n",
      "Value-iteration converged at iteration# 43.\n",
      "Value-iteration converged at iteration# 43.\n",
      "Value-iteration converged at iteration# 43.\n",
      "Value-iteration converged at iteration# 43.\n",
      "Value-iteration converged at iteration# 43.\n",
      "Value-iteration converged at iteration# 43.\n",
      "Value-iteration converged at iteration# 43.\n",
      "Value-iteration converged at iteration# 43.\n",
      "Value-iteration converged at iteration# 43.\n",
      "Value-iteration converged at iteration# 43.\n",
      "Value-iteration converged at iteration# 43.\n",
      "Value-iteration converged at iteration# 43.\n",
      "Value-iteration converged at iteration# 43.\n",
      "Value-iteration converged at iteration# 43.\n",
      "Value-iteration converged at iteration# 43.\n",
      "Value-iteration converged at iteration# 43.\n",
      "Value-iteration converged at iteration# 43.\n",
      "Value-iteration converged at iteration# 43.\n",
      "Value-iteration converged at iteration# 43.\n",
      "Value-iteration converged at iteration# 43.\n",
      "Value-iteration converged at iteration# 43.\n",
      "Value-iteration converged at iteration# 43.\n",
      "Value-iteration converged at iteration# 43.\n",
      "Value-iteration converged at iteration# 43.\n",
      "Value-iteration converged at iteration# 43.\n",
      "Value-iteration converged at iteration# 43.\n",
      "Value-iteration converged at iteration# 43.\n",
      "Value-iteration converged at iteration# 43.\n",
      "Value-iteration converged at iteration# 43.\n",
      "Value-iteration converged at iteration# 43.\n",
      "Value-iteration converged at iteration# 43.\n",
      "Value-iteration converged at iteration# 43.\n",
      "Value-iteration converged at iteration# 43.\n",
      "Value-iteration converged at iteration# 43.\n",
      "Value-iteration converged at iteration# 43.\n",
      "Value-iteration converged at iteration# 43.\n",
      "Value-iteration converged at iteration# 43.\n",
      "Value-iteration converged at iteration# 43.\n",
      "Value-iteration converged at iteration# 43.\n",
      "Value-iteration converged at iteration# 43.\n",
      "Value-iteration converged at iteration# 43.\n",
      "Value-iteration converged at iteration# 43.\n",
      "Value-iteration converged at iteration# 43.\n",
      "Value-iteration converged at iteration# 43.\n",
      "Value-iteration converged at iteration# 43.\n",
      "Value-iteration converged at iteration# 43.\n",
      "Value-iteration converged at iteration# 43.\n",
      "Value-iteration converged at iteration# 43.\n",
      "Value-iteration converged at iteration# 43.\n",
      "Value-iteration converged at iteration# 43.\n",
      "Value-iteration converged at iteration# 43.\n",
      "Value-iteration converged at iteration# 43.\n",
      "Value-iteration converged at iteration# 43.\n",
      "Value-iteration converged at iteration# 43.\n",
      "Value-iteration converged at iteration# 43.\n",
      "Value-iteration converged at iteration# 43.\n",
      "Value-iteration converged at iteration# 43.\n",
      "Value-iteration converged at iteration# 43.\n",
      "Value-iteration converged at iteration# 43.\n",
      "Value-iteration converged at iteration# 43.\n",
      "Value-iteration converged at iteration# 43.\n",
      "Value-iteration converged at iteration# 43.\n",
      "Value-iteration converged at iteration# 43.\n",
      "Value-iteration converged at iteration# 43.\n",
      "Value-iteration converged at iteration# 43.\n",
      "Value-iteration converged at iteration# 43.\n",
      "Value-iteration converged at iteration# 43.\n",
      "Value-iteration converged at iteration# 43.\n",
      "Value-iteration converged at iteration# 43.\n",
      "Value-iteration converged at iteration# 43.\n",
      "Value-iteration converged at iteration# 43.\n",
      "Value-iteration converged at iteration# 43.\n",
      "Value-iteration converged at iteration# 43.\n",
      "Value-iteration converged at iteration# 43.\n",
      "Value-iteration converged at iteration# 43.\n",
      "Value-iteration converged at iteration# 43.\n"
     ]
    }
   ],
   "source": [
    "s=[]\n",
    "for i in range(100):\n",
    "    _,_,t=value_iteration(env, gamma = gamma)\n",
    "    s.append(t)"
   ]
  },
  {
   "cell_type": "code",
   "execution_count": 22,
   "metadata": {},
   "outputs": [
    {
     "name": "stdout",
     "output_type": "stream",
     "text": [
      "mu is 0.11029, sigma is 0.00588\n"
     ]
    }
   ],
   "source": [
    "from scipy.stats import norm\n",
    "s=np.array(s)\n",
    "(mu, sigma) = norm.fit(s)\n",
    "#formatted_mu = \"{:.2f}\".format(mu)\n",
    "#formatted_sigma = \"{:.2f}\".format(sigma)\n",
    "#print(['mu is {}' %mu, ' sigma is {}'%sigma])\n",
    "print(\"mu is {:.5f}, sigma is {:.5f}\".format(mu, sigma))"
   ]
  },
  {
   "cell_type": "code",
   "execution_count": 23,
   "metadata": {},
   "outputs": [
    {
     "name": "stdout",
     "output_type": "stream",
     "text": [
      "Histogram of steps: μ=0.11029, sigma=0.00588\n"
     ]
    },
    {
     "data": {
      "image/png": "[encoded data removed]",
      "text/plain": [
       "<Figure size 432x288 with 1 Axes>"
      ]
     },
     "metadata": {
      "needs_background": "light"
     },
     "output_type": "display_data"
    }
   ],
   "source": [
    "n, bins, patches = plt.hist(s, 20, density=0, facecolor='green', alpha=0.75)\n",
    "plt.xlabel('time')\n",
    "plt.ylabel('number of episodes')\n",
    "#plt.title('Histogram of steps: μ=' + str(mu) + ' sigma=' + str(sigma))\n",
    "print(\"Histogram of steps: μ={:.5f}, sigma={:.5f}\".format(mu, sigma))\n",
    "plt.grid(True)\n",
    "plt.show()"
   ]
  },
  {
   "cell_type": "code",
   "execution_count": null,
   "metadata": {},
   "outputs": [],
   "source": []
  }
 ],
 "metadata": {
  "kernelspec": {
   "display_name": "Python 3",
   "language": "python",
   "name": "python3"
  },
  "language_info": {
   "codemirror_mode": {
    "name": "ipython",
    "version": 3
   },
   "file_extension": ".py",
   "mimetype": "text/x-python",
   "name": "python",
   "nbconvert_exporter": "python",
   "pygments_lexer": "ipython3",
   "version": "3.8.8"
  }
 },
 "nbformat": 4,
 "nbformat_minor": 2
}
